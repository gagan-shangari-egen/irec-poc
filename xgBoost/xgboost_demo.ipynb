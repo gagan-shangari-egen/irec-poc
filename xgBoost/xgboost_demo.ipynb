{
  "nbformat": 4,
  "nbformat_minor": 0,
  "metadata": {
    "colab": {
      "name": "xgboost demo.ipynb",
      "provenance": [],
      "collapsed_sections": [],
      "machine_shape": "hm"
    },
    "kernelspec": {
      "name": "python3",
      "display_name": "Python 3"
    }
  },
  "cells": [
    {
      "cell_type": "code",
      "metadata": {
        "id": "D5mNib-lITpw"
      },
      "source": [
        "import numpy as np\n",
        "import pandas as pd\n",
        "import xgboost as xgb\n",
        "from matplotlib import pyplot as plt\n",
        "from sklearn import metrics, model_selection\n",
        "from sklearn.cluster import KMeans\n",
        "from sklearn.metrics import silhouette_score"
      ],
      "execution_count": 100,
      "outputs": []
    },
    {
      "cell_type": "markdown",
      "metadata": {
        "id": "b4U6gavx95DO"
      },
      "source": [
        ""
      ]
    },
    {
      "cell_type": "code",
      "metadata": {
        "id": "FlkypAPiIkwE",
        "colab": {
          "base_uri": "https://localhost:8080/"
        },
        "outputId": "296ddc8f-6f74-4377-c4c2-7db0af469b07"
      },
      "source": [
        "#setting up gdrive for colab\n",
        "from google.colab import drive \n",
        "drive.mount('/content/drive')"
      ],
      "execution_count": 8,
      "outputs": [
        {
          "output_type": "stream",
          "text": [
            "Mounted at /content/drive\n"
          ],
          "name": "stdout"
        }
      ]
    },
    {
      "cell_type": "markdown",
      "metadata": {
        "id": "MtO9qudY-emg"
      },
      "source": [
        "### clustering\n"
      ]
    },
    {
      "cell_type": "code",
      "metadata": {
        "id": "Z-0Rwg3l-okI"
      },
      "source": [
        "data_dir = 'drive/My Drive/Hackathon/instacart_2017_05_01/'"
      ],
      "execution_count": 74,
      "outputs": []
    },
    {
      "cell_type": "code",
      "metadata": {
        "colab": {
          "base_uri": "https://localhost:8080/",
          "height": 204
        },
        "id": "8Fxj6gfC-jw3",
        "outputId": "4ce7cebb-ede4-44a5-b9cd-0348c085dae7"
      },
      "source": [
        "orders = pd.read_csv(data_dir + 'orders.csv')\n",
        "orders.head()"
      ],
      "execution_count": 75,
      "outputs": [
        {
          "output_type": "execute_result",
          "data": {
            "text/html": [
              "<div>\n",
              "<style scoped>\n",
              "    .dataframe tbody tr th:only-of-type {\n",
              "        vertical-align: middle;\n",
              "    }\n",
              "\n",
              "    .dataframe tbody tr th {\n",
              "        vertical-align: top;\n",
              "    }\n",
              "\n",
              "    .dataframe thead th {\n",
              "        text-align: right;\n",
              "    }\n",
              "</style>\n",
              "<table border=\"1\" class=\"dataframe\">\n",
              "  <thead>\n",
              "    <tr style=\"text-align: right;\">\n",
              "      <th></th>\n",
              "      <th>order_id</th>\n",
              "      <th>user_id</th>\n",
              "      <th>eval_set</th>\n",
              "      <th>order_number</th>\n",
              "      <th>order_dow</th>\n",
              "      <th>order_hour_of_day</th>\n",
              "      <th>days_since_prior_order</th>\n",
              "    </tr>\n",
              "  </thead>\n",
              "  <tbody>\n",
              "    <tr>\n",
              "      <th>0</th>\n",
              "      <td>2539329</td>\n",
              "      <td>1</td>\n",
              "      <td>prior</td>\n",
              "      <td>1</td>\n",
              "      <td>2</td>\n",
              "      <td>8</td>\n",
              "      <td>NaN</td>\n",
              "    </tr>\n",
              "    <tr>\n",
              "      <th>1</th>\n",
              "      <td>2398795</td>\n",
              "      <td>1</td>\n",
              "      <td>prior</td>\n",
              "      <td>2</td>\n",
              "      <td>3</td>\n",
              "      <td>7</td>\n",
              "      <td>15.0</td>\n",
              "    </tr>\n",
              "    <tr>\n",
              "      <th>2</th>\n",
              "      <td>473747</td>\n",
              "      <td>1</td>\n",
              "      <td>prior</td>\n",
              "      <td>3</td>\n",
              "      <td>3</td>\n",
              "      <td>12</td>\n",
              "      <td>21.0</td>\n",
              "    </tr>\n",
              "    <tr>\n",
              "      <th>3</th>\n",
              "      <td>2254736</td>\n",
              "      <td>1</td>\n",
              "      <td>prior</td>\n",
              "      <td>4</td>\n",
              "      <td>4</td>\n",
              "      <td>7</td>\n",
              "      <td>29.0</td>\n",
              "    </tr>\n",
              "    <tr>\n",
              "      <th>4</th>\n",
              "      <td>431534</td>\n",
              "      <td>1</td>\n",
              "      <td>prior</td>\n",
              "      <td>5</td>\n",
              "      <td>4</td>\n",
              "      <td>15</td>\n",
              "      <td>28.0</td>\n",
              "    </tr>\n",
              "  </tbody>\n",
              "</table>\n",
              "</div>"
            ],
            "text/plain": [
              "   order_id  user_id  ... order_hour_of_day  days_since_prior_order\n",
              "0   2539329        1  ...                 8                     NaN\n",
              "1   2398795        1  ...                 7                    15.0\n",
              "2    473747        1  ...                12                    21.0\n",
              "3   2254736        1  ...                 7                    29.0\n",
              "4    431534        1  ...                15                    28.0\n",
              "\n",
              "[5 rows x 7 columns]"
            ]
          },
          "metadata": {
            "tags": []
          },
          "execution_count": 75
        }
      ]
    },
    {
      "cell_type": "code",
      "metadata": {
        "colab": {
          "base_uri": "https://localhost:8080/",
          "height": 204
        },
        "id": "1Zy8XdPN-uRt",
        "outputId": "d802b76e-3347-47bf-c856-806b900f4636"
      },
      "source": [
        "prior = pd.read_csv(data_dir + 'order_products__prior.csv')\n",
        "prior.head()"
      ],
      "execution_count": 76,
      "outputs": [
        {
          "output_type": "execute_result",
          "data": {
            "text/html": [
              "<div>\n",
              "<style scoped>\n",
              "    .dataframe tbody tr th:only-of-type {\n",
              "        vertical-align: middle;\n",
              "    }\n",
              "\n",
              "    .dataframe tbody tr th {\n",
              "        vertical-align: top;\n",
              "    }\n",
              "\n",
              "    .dataframe thead th {\n",
              "        text-align: right;\n",
              "    }\n",
              "</style>\n",
              "<table border=\"1\" class=\"dataframe\">\n",
              "  <thead>\n",
              "    <tr style=\"text-align: right;\">\n",
              "      <th></th>\n",
              "      <th>order_id</th>\n",
              "      <th>product_id</th>\n",
              "      <th>add_to_cart_order</th>\n",
              "      <th>reordered</th>\n",
              "    </tr>\n",
              "  </thead>\n",
              "  <tbody>\n",
              "    <tr>\n",
              "      <th>0</th>\n",
              "      <td>2</td>\n",
              "      <td>33120</td>\n",
              "      <td>1</td>\n",
              "      <td>1</td>\n",
              "    </tr>\n",
              "    <tr>\n",
              "      <th>1</th>\n",
              "      <td>2</td>\n",
              "      <td>28985</td>\n",
              "      <td>2</td>\n",
              "      <td>1</td>\n",
              "    </tr>\n",
              "    <tr>\n",
              "      <th>2</th>\n",
              "      <td>2</td>\n",
              "      <td>9327</td>\n",
              "      <td>3</td>\n",
              "      <td>0</td>\n",
              "    </tr>\n",
              "    <tr>\n",
              "      <th>3</th>\n",
              "      <td>2</td>\n",
              "      <td>45918</td>\n",
              "      <td>4</td>\n",
              "      <td>1</td>\n",
              "    </tr>\n",
              "    <tr>\n",
              "      <th>4</th>\n",
              "      <td>2</td>\n",
              "      <td>30035</td>\n",
              "      <td>5</td>\n",
              "      <td>0</td>\n",
              "    </tr>\n",
              "  </tbody>\n",
              "</table>\n",
              "</div>"
            ],
            "text/plain": [
              "   order_id  product_id  add_to_cart_order  reordered\n",
              "0         2       33120                  1          1\n",
              "1         2       28985                  2          1\n",
              "2         2        9327                  3          0\n",
              "3         2       45918                  4          1\n",
              "4         2       30035                  5          0"
            ]
          },
          "metadata": {
            "tags": []
          },
          "execution_count": 76
        }
      ]
    },
    {
      "cell_type": "code",
      "metadata": {
        "colab": {
          "base_uri": "https://localhost:8080/",
          "height": 204
        },
        "id": "LdH1W8le-yg9",
        "outputId": "1b68a8f4-f9d8-4806-a5a6-e2e6013e437f"
      },
      "source": [
        "train = pd.read_csv(data_dir+'order_products__train.csv')\n",
        "train.head()"
      ],
      "execution_count": 77,
      "outputs": [
        {
          "output_type": "execute_result",
          "data": {
            "text/html": [
              "<div>\n",
              "<style scoped>\n",
              "    .dataframe tbody tr th:only-of-type {\n",
              "        vertical-align: middle;\n",
              "    }\n",
              "\n",
              "    .dataframe tbody tr th {\n",
              "        vertical-align: top;\n",
              "    }\n",
              "\n",
              "    .dataframe thead th {\n",
              "        text-align: right;\n",
              "    }\n",
              "</style>\n",
              "<table border=\"1\" class=\"dataframe\">\n",
              "  <thead>\n",
              "    <tr style=\"text-align: right;\">\n",
              "      <th></th>\n",
              "      <th>order_id</th>\n",
              "      <th>product_id</th>\n",
              "      <th>add_to_cart_order</th>\n",
              "      <th>reordered</th>\n",
              "    </tr>\n",
              "  </thead>\n",
              "  <tbody>\n",
              "    <tr>\n",
              "      <th>0</th>\n",
              "      <td>1</td>\n",
              "      <td>49302</td>\n",
              "      <td>1</td>\n",
              "      <td>1</td>\n",
              "    </tr>\n",
              "    <tr>\n",
              "      <th>1</th>\n",
              "      <td>1</td>\n",
              "      <td>11109</td>\n",
              "      <td>2</td>\n",
              "      <td>1</td>\n",
              "    </tr>\n",
              "    <tr>\n",
              "      <th>2</th>\n",
              "      <td>1</td>\n",
              "      <td>10246</td>\n",
              "      <td>3</td>\n",
              "      <td>0</td>\n",
              "    </tr>\n",
              "    <tr>\n",
              "      <th>3</th>\n",
              "      <td>1</td>\n",
              "      <td>49683</td>\n",
              "      <td>4</td>\n",
              "      <td>0</td>\n",
              "    </tr>\n",
              "    <tr>\n",
              "      <th>4</th>\n",
              "      <td>1</td>\n",
              "      <td>43633</td>\n",
              "      <td>5</td>\n",
              "      <td>1</td>\n",
              "    </tr>\n",
              "  </tbody>\n",
              "</table>\n",
              "</div>"
            ],
            "text/plain": [
              "   order_id  product_id  add_to_cart_order  reordered\n",
              "0         1       49302                  1          1\n",
              "1         1       11109                  2          1\n",
              "2         1       10246                  3          0\n",
              "3         1       49683                  4          0\n",
              "4         1       43633                  5          1"
            ]
          },
          "metadata": {
            "tags": []
          },
          "execution_count": 77
        }
      ]
    },
    {
      "cell_type": "code",
      "metadata": {
        "id": "3aUBoZ90-0ma"
      },
      "source": [
        "complete_train = pd.merge(train,orders[['order_id','user_id']], left_on = 'order_id', right_on = 'order_id', how = 'left')"
      ],
      "execution_count": 78,
      "outputs": []
    },
    {
      "cell_type": "code",
      "metadata": {
        "colab": {
          "base_uri": "https://localhost:8080/",
          "height": 419
        },
        "id": "AOpSWEM6-0cJ",
        "outputId": "139e8d8e-7539-4fe0-9b69-ee85a552f6bb"
      },
      "source": [
        "complete_train"
      ],
      "execution_count": 79,
      "outputs": [
        {
          "output_type": "execute_result",
          "data": {
            "text/html": [
              "<div>\n",
              "<style scoped>\n",
              "    .dataframe tbody tr th:only-of-type {\n",
              "        vertical-align: middle;\n",
              "    }\n",
              "\n",
              "    .dataframe tbody tr th {\n",
              "        vertical-align: top;\n",
              "    }\n",
              "\n",
              "    .dataframe thead th {\n",
              "        text-align: right;\n",
              "    }\n",
              "</style>\n",
              "<table border=\"1\" class=\"dataframe\">\n",
              "  <thead>\n",
              "    <tr style=\"text-align: right;\">\n",
              "      <th></th>\n",
              "      <th>order_id</th>\n",
              "      <th>product_id</th>\n",
              "      <th>add_to_cart_order</th>\n",
              "      <th>reordered</th>\n",
              "      <th>user_id</th>\n",
              "    </tr>\n",
              "  </thead>\n",
              "  <tbody>\n",
              "    <tr>\n",
              "      <th>0</th>\n",
              "      <td>1</td>\n",
              "      <td>49302</td>\n",
              "      <td>1</td>\n",
              "      <td>1</td>\n",
              "      <td>112108</td>\n",
              "    </tr>\n",
              "    <tr>\n",
              "      <th>1</th>\n",
              "      <td>1</td>\n",
              "      <td>11109</td>\n",
              "      <td>2</td>\n",
              "      <td>1</td>\n",
              "      <td>112108</td>\n",
              "    </tr>\n",
              "    <tr>\n",
              "      <th>2</th>\n",
              "      <td>1</td>\n",
              "      <td>10246</td>\n",
              "      <td>3</td>\n",
              "      <td>0</td>\n",
              "      <td>112108</td>\n",
              "    </tr>\n",
              "    <tr>\n",
              "      <th>3</th>\n",
              "      <td>1</td>\n",
              "      <td>49683</td>\n",
              "      <td>4</td>\n",
              "      <td>0</td>\n",
              "      <td>112108</td>\n",
              "    </tr>\n",
              "    <tr>\n",
              "      <th>4</th>\n",
              "      <td>1</td>\n",
              "      <td>43633</td>\n",
              "      <td>5</td>\n",
              "      <td>1</td>\n",
              "      <td>112108</td>\n",
              "    </tr>\n",
              "    <tr>\n",
              "      <th>...</th>\n",
              "      <td>...</td>\n",
              "      <td>...</td>\n",
              "      <td>...</td>\n",
              "      <td>...</td>\n",
              "      <td>...</td>\n",
              "    </tr>\n",
              "    <tr>\n",
              "      <th>1384612</th>\n",
              "      <td>3421063</td>\n",
              "      <td>14233</td>\n",
              "      <td>3</td>\n",
              "      <td>1</td>\n",
              "      <td>169679</td>\n",
              "    </tr>\n",
              "    <tr>\n",
              "      <th>1384613</th>\n",
              "      <td>3421063</td>\n",
              "      <td>35548</td>\n",
              "      <td>4</td>\n",
              "      <td>1</td>\n",
              "      <td>169679</td>\n",
              "    </tr>\n",
              "    <tr>\n",
              "      <th>1384614</th>\n",
              "      <td>3421070</td>\n",
              "      <td>35951</td>\n",
              "      <td>1</td>\n",
              "      <td>1</td>\n",
              "      <td>139822</td>\n",
              "    </tr>\n",
              "    <tr>\n",
              "      <th>1384615</th>\n",
              "      <td>3421070</td>\n",
              "      <td>16953</td>\n",
              "      <td>2</td>\n",
              "      <td>1</td>\n",
              "      <td>139822</td>\n",
              "    </tr>\n",
              "    <tr>\n",
              "      <th>1384616</th>\n",
              "      <td>3421070</td>\n",
              "      <td>4724</td>\n",
              "      <td>3</td>\n",
              "      <td>1</td>\n",
              "      <td>139822</td>\n",
              "    </tr>\n",
              "  </tbody>\n",
              "</table>\n",
              "<p>1384617 rows × 5 columns</p>\n",
              "</div>"
            ],
            "text/plain": [
              "         order_id  product_id  add_to_cart_order  reordered  user_id\n",
              "0               1       49302                  1          1   112108\n",
              "1               1       11109                  2          1   112108\n",
              "2               1       10246                  3          0   112108\n",
              "3               1       49683                  4          0   112108\n",
              "4               1       43633                  5          1   112108\n",
              "...           ...         ...                ...        ...      ...\n",
              "1384612   3421063       14233                  3          1   169679\n",
              "1384613   3421063       35548                  4          1   169679\n",
              "1384614   3421070       35951                  1          1   139822\n",
              "1384615   3421070       16953                  2          1   139822\n",
              "1384616   3421070        4724                  3          1   139822\n",
              "\n",
              "[1384617 rows x 5 columns]"
            ]
          },
          "metadata": {
            "tags": []
          },
          "execution_count": 79
        }
      ]
    },
    {
      "cell_type": "code",
      "metadata": {
        "id": "bEEWGmSO-0TV"
      },
      "source": [
        "complete_prior = pd.merge(prior,orders[['order_id','user_id']], left_on = 'order_id', right_on = 'order_id', how = 'left')"
      ],
      "execution_count": 80,
      "outputs": []
    },
    {
      "cell_type": "code",
      "metadata": {
        "colab": {
          "base_uri": "https://localhost:8080/"
        },
        "id": "S9I8t6lA-0Ig",
        "outputId": "38716161-eafc-43b2-aedc-0de1a610db14"
      },
      "source": [
        "complete_prior.user_id.unique().shape"
      ],
      "execution_count": 81,
      "outputs": [
        {
          "output_type": "execute_result",
          "data": {
            "text/plain": [
              "(206209,)"
            ]
          },
          "metadata": {
            "tags": []
          },
          "execution_count": 81
        }
      ]
    },
    {
      "cell_type": "code",
      "metadata": {
        "id": "ZkptQW65_PIU"
      },
      "source": [
        "sub = pd.read_csv(data_dir+'sample_submission.csv')"
      ],
      "execution_count": 82,
      "outputs": []
    },
    {
      "cell_type": "code",
      "metadata": {
        "id": "TrN3iJnJ_PX-"
      },
      "source": [
        "complete_train_sample = complete_train[complete_train['user_id'] == 112108]"
      ],
      "execution_count": 84,
      "outputs": []
    },
    {
      "cell_type": "code",
      "metadata": {
        "colab": {
          "base_uri": "https://localhost:8080/",
          "height": 700
        },
        "id": "goUPefac_Pqo",
        "outputId": "4c9d163d-2ef1-4a01-f1e7-0c52ed538a0a"
      },
      "source": [
        "complete_prior_sample = complete_prior[complete_prior['user_id'] == 112108]\n",
        "complete_prior_sample"
      ],
      "execution_count": 86,
      "outputs": [
        {
          "output_type": "execute_result",
          "data": {
            "text/html": [
              "<div>\n",
              "<style scoped>\n",
              "    .dataframe tbody tr th:only-of-type {\n",
              "        vertical-align: middle;\n",
              "    }\n",
              "\n",
              "    .dataframe tbody tr th {\n",
              "        vertical-align: top;\n",
              "    }\n",
              "\n",
              "    .dataframe thead th {\n",
              "        text-align: right;\n",
              "    }\n",
              "</style>\n",
              "<table border=\"1\" class=\"dataframe\">\n",
              "  <thead>\n",
              "    <tr style=\"text-align: right;\">\n",
              "      <th></th>\n",
              "      <th>order_id</th>\n",
              "      <th>product_id</th>\n",
              "      <th>add_to_cart_order</th>\n",
              "      <th>reordered</th>\n",
              "      <th>user_id</th>\n",
              "    </tr>\n",
              "  </thead>\n",
              "  <tbody>\n",
              "    <tr>\n",
              "      <th>1770588</th>\n",
              "      <td>186706</td>\n",
              "      <td>14947</td>\n",
              "      <td>1</td>\n",
              "      <td>1</td>\n",
              "      <td>112108</td>\n",
              "    </tr>\n",
              "    <tr>\n",
              "      <th>1770589</th>\n",
              "      <td>186706</td>\n",
              "      <td>5707</td>\n",
              "      <td>2</td>\n",
              "      <td>1</td>\n",
              "      <td>112108</td>\n",
              "    </tr>\n",
              "    <tr>\n",
              "      <th>1770590</th>\n",
              "      <td>186706</td>\n",
              "      <td>44632</td>\n",
              "      <td>3</td>\n",
              "      <td>0</td>\n",
              "      <td>112108</td>\n",
              "    </tr>\n",
              "    <tr>\n",
              "      <th>1770591</th>\n",
              "      <td>186706</td>\n",
              "      <td>30881</td>\n",
              "      <td>4</td>\n",
              "      <td>1</td>\n",
              "      <td>112108</td>\n",
              "    </tr>\n",
              "    <tr>\n",
              "      <th>1770592</th>\n",
              "      <td>186706</td>\n",
              "      <td>43633</td>\n",
              "      <td>5</td>\n",
              "      <td>1</td>\n",
              "      <td>112108</td>\n",
              "    </tr>\n",
              "    <tr>\n",
              "      <th>13529737</th>\n",
              "      <td>1427983</td>\n",
              "      <td>42001</td>\n",
              "      <td>1</td>\n",
              "      <td>0</td>\n",
              "      <td>112108</td>\n",
              "    </tr>\n",
              "    <tr>\n",
              "      <th>13529738</th>\n",
              "      <td>1427983</td>\n",
              "      <td>43633</td>\n",
              "      <td>2</td>\n",
              "      <td>0</td>\n",
              "      <td>112108</td>\n",
              "    </tr>\n",
              "    <tr>\n",
              "      <th>13529739</th>\n",
              "      <td>1427983</td>\n",
              "      <td>30881</td>\n",
              "      <td>3</td>\n",
              "      <td>0</td>\n",
              "      <td>112108</td>\n",
              "    </tr>\n",
              "    <tr>\n",
              "      <th>13529740</th>\n",
              "      <td>1427983</td>\n",
              "      <td>49302</td>\n",
              "      <td>4</td>\n",
              "      <td>0</td>\n",
              "      <td>112108</td>\n",
              "    </tr>\n",
              "    <tr>\n",
              "      <th>13529741</th>\n",
              "      <td>1427983</td>\n",
              "      <td>22035</td>\n",
              "      <td>5</td>\n",
              "      <td>0</td>\n",
              "      <td>112108</td>\n",
              "    </tr>\n",
              "    <tr>\n",
              "      <th>13529742</th>\n",
              "      <td>1427983</td>\n",
              "      <td>11109</td>\n",
              "      <td>6</td>\n",
              "      <td>0</td>\n",
              "      <td>112108</td>\n",
              "    </tr>\n",
              "    <tr>\n",
              "      <th>13529743</th>\n",
              "      <td>1427983</td>\n",
              "      <td>14947</td>\n",
              "      <td>7</td>\n",
              "      <td>0</td>\n",
              "      <td>112108</td>\n",
              "    </tr>\n",
              "    <tr>\n",
              "      <th>13529744</th>\n",
              "      <td>1427983</td>\n",
              "      <td>44359</td>\n",
              "      <td>8</td>\n",
              "      <td>0</td>\n",
              "      <td>112108</td>\n",
              "    </tr>\n",
              "    <tr>\n",
              "      <th>24096763</th>\n",
              "      <td>2541372</td>\n",
              "      <td>49302</td>\n",
              "      <td>1</td>\n",
              "      <td>1</td>\n",
              "      <td>112108</td>\n",
              "    </tr>\n",
              "    <tr>\n",
              "      <th>24096764</th>\n",
              "      <td>2541372</td>\n",
              "      <td>11109</td>\n",
              "      <td>2</td>\n",
              "      <td>1</td>\n",
              "      <td>112108</td>\n",
              "    </tr>\n",
              "    <tr>\n",
              "      <th>24096765</th>\n",
              "      <td>2541372</td>\n",
              "      <td>14947</td>\n",
              "      <td>3</td>\n",
              "      <td>1</td>\n",
              "      <td>112108</td>\n",
              "    </tr>\n",
              "    <tr>\n",
              "      <th>24096766</th>\n",
              "      <td>2541372</td>\n",
              "      <td>44359</td>\n",
              "      <td>4</td>\n",
              "      <td>1</td>\n",
              "      <td>112108</td>\n",
              "    </tr>\n",
              "    <tr>\n",
              "      <th>24096767</th>\n",
              "      <td>2541372</td>\n",
              "      <td>22035</td>\n",
              "      <td>5</td>\n",
              "      <td>1</td>\n",
              "      <td>112108</td>\n",
              "    </tr>\n",
              "    <tr>\n",
              "      <th>24096768</th>\n",
              "      <td>2541372</td>\n",
              "      <td>24852</td>\n",
              "      <td>6</td>\n",
              "      <td>0</td>\n",
              "      <td>112108</td>\n",
              "    </tr>\n",
              "    <tr>\n",
              "      <th>24096769</th>\n",
              "      <td>2541372</td>\n",
              "      <td>2067</td>\n",
              "      <td>7</td>\n",
              "      <td>0</td>\n",
              "      <td>112108</td>\n",
              "    </tr>\n",
              "    <tr>\n",
              "      <th>24096770</th>\n",
              "      <td>2541372</td>\n",
              "      <td>5707</td>\n",
              "      <td>8</td>\n",
              "      <td>0</td>\n",
              "      <td>112108</td>\n",
              "    </tr>\n",
              "  </tbody>\n",
              "</table>\n",
              "</div>"
            ],
            "text/plain": [
              "          order_id  product_id  add_to_cart_order  reordered  user_id\n",
              "1770588     186706       14947                  1          1   112108\n",
              "1770589     186706        5707                  2          1   112108\n",
              "1770590     186706       44632                  3          0   112108\n",
              "1770591     186706       30881                  4          1   112108\n",
              "1770592     186706       43633                  5          1   112108\n",
              "13529737   1427983       42001                  1          0   112108\n",
              "13529738   1427983       43633                  2          0   112108\n",
              "13529739   1427983       30881                  3          0   112108\n",
              "13529740   1427983       49302                  4          0   112108\n",
              "13529741   1427983       22035                  5          0   112108\n",
              "13529742   1427983       11109                  6          0   112108\n",
              "13529743   1427983       14947                  7          0   112108\n",
              "13529744   1427983       44359                  8          0   112108\n",
              "24096763   2541372       49302                  1          1   112108\n",
              "24096764   2541372       11109                  2          1   112108\n",
              "24096765   2541372       14947                  3          1   112108\n",
              "24096766   2541372       44359                  4          1   112108\n",
              "24096767   2541372       22035                  5          1   112108\n",
              "24096768   2541372       24852                  6          0   112108\n",
              "24096769   2541372        2067                  7          0   112108\n",
              "24096770   2541372        5707                  8          0   112108"
            ]
          },
          "metadata": {
            "tags": []
          },
          "execution_count": 86
        }
      ]
    },
    {
      "cell_type": "code",
      "metadata": {
        "colab": {
          "base_uri": "https://localhost:8080/",
          "height": 700
        },
        "id": "40npPG_z_P6Q",
        "outputId": "9c2e8c7c-2325-4981-ec71-48374cfe41c8"
      },
      "source": [
        "product = pd.read_csv(data_dir + 'products.csv')\n",
        "complete_prior_sample = pd.merge(complete_prior_sample, product[['product_name','product_id','department_id']], \n",
        "                                 left_on = 'product_id', right_on = 'product_id', how = 'left')\n",
        "complete_prior_sample"
      ],
      "execution_count": 88,
      "outputs": [
        {
          "output_type": "execute_result",
          "data": {
            "text/html": [
              "<div>\n",
              "<style scoped>\n",
              "    .dataframe tbody tr th:only-of-type {\n",
              "        vertical-align: middle;\n",
              "    }\n",
              "\n",
              "    .dataframe tbody tr th {\n",
              "        vertical-align: top;\n",
              "    }\n",
              "\n",
              "    .dataframe thead th {\n",
              "        text-align: right;\n",
              "    }\n",
              "</style>\n",
              "<table border=\"1\" class=\"dataframe\">\n",
              "  <thead>\n",
              "    <tr style=\"text-align: right;\">\n",
              "      <th></th>\n",
              "      <th>order_id</th>\n",
              "      <th>product_id</th>\n",
              "      <th>add_to_cart_order</th>\n",
              "      <th>reordered</th>\n",
              "      <th>user_id</th>\n",
              "      <th>product_name_x</th>\n",
              "      <th>department_id_x</th>\n",
              "      <th>product_name_y</th>\n",
              "      <th>department_id_y</th>\n",
              "    </tr>\n",
              "  </thead>\n",
              "  <tbody>\n",
              "    <tr>\n",
              "      <th>0</th>\n",
              "      <td>186706</td>\n",
              "      <td>14947</td>\n",
              "      <td>1</td>\n",
              "      <td>1</td>\n",
              "      <td>112108</td>\n",
              "      <td>Pure Sparkling Water</td>\n",
              "      <td>7</td>\n",
              "      <td>Pure Sparkling Water</td>\n",
              "      <td>7</td>\n",
              "    </tr>\n",
              "    <tr>\n",
              "      <th>1</th>\n",
              "      <td>186706</td>\n",
              "      <td>5707</td>\n",
              "      <td>2</td>\n",
              "      <td>1</td>\n",
              "      <td>112108</td>\n",
              "      <td>Dark Chocolate Cinnamon Pecan Bar</td>\n",
              "      <td>19</td>\n",
              "      <td>Dark Chocolate Cinnamon Pecan Bar</td>\n",
              "      <td>19</td>\n",
              "    </tr>\n",
              "    <tr>\n",
              "      <th>2</th>\n",
              "      <td>186706</td>\n",
              "      <td>44632</td>\n",
              "      <td>3</td>\n",
              "      <td>0</td>\n",
              "      <td>112108</td>\n",
              "      <td>Sparkling Water Grapefruit</td>\n",
              "      <td>7</td>\n",
              "      <td>Sparkling Water Grapefruit</td>\n",
              "      <td>7</td>\n",
              "    </tr>\n",
              "    <tr>\n",
              "      <th>3</th>\n",
              "      <td>186706</td>\n",
              "      <td>30881</td>\n",
              "      <td>4</td>\n",
              "      <td>1</td>\n",
              "      <td>112108</td>\n",
              "      <td>Naturally Smoked Oysters in Pure Olive Oil</td>\n",
              "      <td>15</td>\n",
              "      <td>Naturally Smoked Oysters in Pure Olive Oil</td>\n",
              "      <td>15</td>\n",
              "    </tr>\n",
              "    <tr>\n",
              "      <th>4</th>\n",
              "      <td>186706</td>\n",
              "      <td>43633</td>\n",
              "      <td>5</td>\n",
              "      <td>1</td>\n",
              "      <td>112108</td>\n",
              "      <td>Lightly Smoked Sardines in Olive Oil</td>\n",
              "      <td>15</td>\n",
              "      <td>Lightly Smoked Sardines in Olive Oil</td>\n",
              "      <td>15</td>\n",
              "    </tr>\n",
              "    <tr>\n",
              "      <th>5</th>\n",
              "      <td>1427983</td>\n",
              "      <td>42001</td>\n",
              "      <td>1</td>\n",
              "      <td>0</td>\n",
              "      <td>112108</td>\n",
              "      <td>Tuna Ventresca, in Olive Oil</td>\n",
              "      <td>15</td>\n",
              "      <td>Tuna Ventresca, in Olive Oil</td>\n",
              "      <td>15</td>\n",
              "    </tr>\n",
              "    <tr>\n",
              "      <th>6</th>\n",
              "      <td>1427983</td>\n",
              "      <td>43633</td>\n",
              "      <td>2</td>\n",
              "      <td>0</td>\n",
              "      <td>112108</td>\n",
              "      <td>Lightly Smoked Sardines in Olive Oil</td>\n",
              "      <td>15</td>\n",
              "      <td>Lightly Smoked Sardines in Olive Oil</td>\n",
              "      <td>15</td>\n",
              "    </tr>\n",
              "    <tr>\n",
              "      <th>7</th>\n",
              "      <td>1427983</td>\n",
              "      <td>30881</td>\n",
              "      <td>3</td>\n",
              "      <td>0</td>\n",
              "      <td>112108</td>\n",
              "      <td>Naturally Smoked Oysters in Pure Olive Oil</td>\n",
              "      <td>15</td>\n",
              "      <td>Naturally Smoked Oysters in Pure Olive Oil</td>\n",
              "      <td>15</td>\n",
              "    </tr>\n",
              "    <tr>\n",
              "      <th>8</th>\n",
              "      <td>1427983</td>\n",
              "      <td>49302</td>\n",
              "      <td>4</td>\n",
              "      <td>0</td>\n",
              "      <td>112108</td>\n",
              "      <td>Bulgarian Yogurt</td>\n",
              "      <td>16</td>\n",
              "      <td>Bulgarian Yogurt</td>\n",
              "      <td>16</td>\n",
              "    </tr>\n",
              "    <tr>\n",
              "      <th>9</th>\n",
              "      <td>1427983</td>\n",
              "      <td>22035</td>\n",
              "      <td>5</td>\n",
              "      <td>0</td>\n",
              "      <td>112108</td>\n",
              "      <td>Organic Whole String Cheese</td>\n",
              "      <td>16</td>\n",
              "      <td>Organic Whole String Cheese</td>\n",
              "      <td>16</td>\n",
              "    </tr>\n",
              "    <tr>\n",
              "      <th>10</th>\n",
              "      <td>1427983</td>\n",
              "      <td>11109</td>\n",
              "      <td>6</td>\n",
              "      <td>0</td>\n",
              "      <td>112108</td>\n",
              "      <td>Organic 4% Milk Fat Whole Milk Cottage Cheese</td>\n",
              "      <td>16</td>\n",
              "      <td>Organic 4% Milk Fat Whole Milk Cottage Cheese</td>\n",
              "      <td>16</td>\n",
              "    </tr>\n",
              "    <tr>\n",
              "      <th>11</th>\n",
              "      <td>1427983</td>\n",
              "      <td>14947</td>\n",
              "      <td>7</td>\n",
              "      <td>0</td>\n",
              "      <td>112108</td>\n",
              "      <td>Pure Sparkling Water</td>\n",
              "      <td>7</td>\n",
              "      <td>Pure Sparkling Water</td>\n",
              "      <td>7</td>\n",
              "    </tr>\n",
              "    <tr>\n",
              "      <th>12</th>\n",
              "      <td>1427983</td>\n",
              "      <td>44359</td>\n",
              "      <td>8</td>\n",
              "      <td>0</td>\n",
              "      <td>112108</td>\n",
              "      <td>Organic Small Bunch Celery</td>\n",
              "      <td>4</td>\n",
              "      <td>Organic Small Bunch Celery</td>\n",
              "      <td>4</td>\n",
              "    </tr>\n",
              "    <tr>\n",
              "      <th>13</th>\n",
              "      <td>2541372</td>\n",
              "      <td>49302</td>\n",
              "      <td>1</td>\n",
              "      <td>1</td>\n",
              "      <td>112108</td>\n",
              "      <td>Bulgarian Yogurt</td>\n",
              "      <td>16</td>\n",
              "      <td>Bulgarian Yogurt</td>\n",
              "      <td>16</td>\n",
              "    </tr>\n",
              "    <tr>\n",
              "      <th>14</th>\n",
              "      <td>2541372</td>\n",
              "      <td>11109</td>\n",
              "      <td>2</td>\n",
              "      <td>1</td>\n",
              "      <td>112108</td>\n",
              "      <td>Organic 4% Milk Fat Whole Milk Cottage Cheese</td>\n",
              "      <td>16</td>\n",
              "      <td>Organic 4% Milk Fat Whole Milk Cottage Cheese</td>\n",
              "      <td>16</td>\n",
              "    </tr>\n",
              "    <tr>\n",
              "      <th>15</th>\n",
              "      <td>2541372</td>\n",
              "      <td>14947</td>\n",
              "      <td>3</td>\n",
              "      <td>1</td>\n",
              "      <td>112108</td>\n",
              "      <td>Pure Sparkling Water</td>\n",
              "      <td>7</td>\n",
              "      <td>Pure Sparkling Water</td>\n",
              "      <td>7</td>\n",
              "    </tr>\n",
              "    <tr>\n",
              "      <th>16</th>\n",
              "      <td>2541372</td>\n",
              "      <td>44359</td>\n",
              "      <td>4</td>\n",
              "      <td>1</td>\n",
              "      <td>112108</td>\n",
              "      <td>Organic Small Bunch Celery</td>\n",
              "      <td>4</td>\n",
              "      <td>Organic Small Bunch Celery</td>\n",
              "      <td>4</td>\n",
              "    </tr>\n",
              "    <tr>\n",
              "      <th>17</th>\n",
              "      <td>2541372</td>\n",
              "      <td>22035</td>\n",
              "      <td>5</td>\n",
              "      <td>1</td>\n",
              "      <td>112108</td>\n",
              "      <td>Organic Whole String Cheese</td>\n",
              "      <td>16</td>\n",
              "      <td>Organic Whole String Cheese</td>\n",
              "      <td>16</td>\n",
              "    </tr>\n",
              "    <tr>\n",
              "      <th>18</th>\n",
              "      <td>2541372</td>\n",
              "      <td>24852</td>\n",
              "      <td>6</td>\n",
              "      <td>0</td>\n",
              "      <td>112108</td>\n",
              "      <td>Banana</td>\n",
              "      <td>4</td>\n",
              "      <td>Banana</td>\n",
              "      <td>4</td>\n",
              "    </tr>\n",
              "    <tr>\n",
              "      <th>19</th>\n",
              "      <td>2541372</td>\n",
              "      <td>2067</td>\n",
              "      <td>7</td>\n",
              "      <td>0</td>\n",
              "      <td>112108</td>\n",
              "      <td>Plus Cranberry Almond + Antioxidants with Maca...</td>\n",
              "      <td>19</td>\n",
              "      <td>Plus Cranberry Almond + Antioxidants with Maca...</td>\n",
              "      <td>19</td>\n",
              "    </tr>\n",
              "    <tr>\n",
              "      <th>20</th>\n",
              "      <td>2541372</td>\n",
              "      <td>5707</td>\n",
              "      <td>8</td>\n",
              "      <td>0</td>\n",
              "      <td>112108</td>\n",
              "      <td>Dark Chocolate Cinnamon Pecan Bar</td>\n",
              "      <td>19</td>\n",
              "      <td>Dark Chocolate Cinnamon Pecan Bar</td>\n",
              "      <td>19</td>\n",
              "    </tr>\n",
              "  </tbody>\n",
              "</table>\n",
              "</div>"
            ],
            "text/plain": [
              "    order_id  ...  department_id_y\n",
              "0     186706  ...                7\n",
              "1     186706  ...               19\n",
              "2     186706  ...                7\n",
              "3     186706  ...               15\n",
              "4     186706  ...               15\n",
              "5    1427983  ...               15\n",
              "6    1427983  ...               15\n",
              "7    1427983  ...               15\n",
              "8    1427983  ...               16\n",
              "9    1427983  ...               16\n",
              "10   1427983  ...               16\n",
              "11   1427983  ...                7\n",
              "12   1427983  ...                4\n",
              "13   2541372  ...               16\n",
              "14   2541372  ...               16\n",
              "15   2541372  ...                7\n",
              "16   2541372  ...                4\n",
              "17   2541372  ...               16\n",
              "18   2541372  ...                4\n",
              "19   2541372  ...               19\n",
              "20   2541372  ...               19\n",
              "\n",
              "[21 rows x 9 columns]"
            ]
          },
          "metadata": {
            "tags": []
          },
          "execution_count": 88
        }
      ]
    },
    {
      "cell_type": "code",
      "metadata": {
        "colab": {
          "base_uri": "https://localhost:8080/"
        },
        "id": "auaGrLYbAccu",
        "outputId": "d8a28e05-ea7f-41fe-c665-b050ce335a33"
      },
      "source": [
        "aisles = pd.read_csv(data_dir + 'aisles.csv')\n",
        "prior = prior[0:300000]\n",
        "order_prior = pd.merge(prior,orders,on=['order_id','order_id'])\n",
        "order_prior = order_prior.sort_values(by=['user_id','order_id'])\n",
        "_mt = pd.merge(prior,product, on = ['product_id','product_id'])\n",
        "_mt = pd.merge(_mt,orders,on=['order_id','order_id'])\n",
        "mt = pd.merge(_mt,aisles,on=['aisle_id','aisle_id'])\n",
        "mt['product_name'].value_counts()[0:10]"
      ],
      "execution_count": 89,
      "outputs": [
        {
          "output_type": "execute_result",
          "data": {
            "text/plain": [
              "Banana                    4432\n",
              "Bag of Organic Bananas    3563\n",
              "Organic Strawberries      2370\n",
              "Organic Baby Spinach      2242\n",
              "Organic Hass Avocado      1985\n",
              "Organic Avocado           1626\n",
              "Large Lemon               1380\n",
              "Strawberries              1343\n",
              "Organic Raspberries       1293\n",
              "Limes                     1270\n",
              "Name: product_name, dtype: int64"
            ]
          },
          "metadata": {
            "tags": []
          },
          "execution_count": 89
        }
      ]
    },
    {
      "cell_type": "code",
      "metadata": {
        "colab": {
          "base_uri": "https://localhost:8080/",
          "height": 507
        },
        "id": "yXvz6wm1AcXr",
        "outputId": "46e92b7b-048d-444b-f68d-b9e6fe724c46"
      },
      "source": [
        "cust_prod = pd.crosstab(mt['user_id'], mt['aisle'])\n",
        "cust_prod.head(10)"
      ],
      "execution_count": 90,
      "outputs": [
        {
          "output_type": "execute_result",
          "data": {
            "text/html": [
              "<div>\n",
              "<style scoped>\n",
              "    .dataframe tbody tr th:only-of-type {\n",
              "        vertical-align: middle;\n",
              "    }\n",
              "\n",
              "    .dataframe tbody tr th {\n",
              "        vertical-align: top;\n",
              "    }\n",
              "\n",
              "    .dataframe thead th {\n",
              "        text-align: right;\n",
              "    }\n",
              "</style>\n",
              "<table border=\"1\" class=\"dataframe\">\n",
              "  <thead>\n",
              "    <tr style=\"text-align: right;\">\n",
              "      <th>aisle</th>\n",
              "      <th>air fresheners candles</th>\n",
              "      <th>asian foods</th>\n",
              "      <th>baby accessories</th>\n",
              "      <th>baby bath body care</th>\n",
              "      <th>baby food formula</th>\n",
              "      <th>bakery desserts</th>\n",
              "      <th>baking ingredients</th>\n",
              "      <th>baking supplies decor</th>\n",
              "      <th>beauty</th>\n",
              "      <th>beers coolers</th>\n",
              "      <th>body lotions soap</th>\n",
              "      <th>bread</th>\n",
              "      <th>breakfast bakery</th>\n",
              "      <th>breakfast bars pastries</th>\n",
              "      <th>bulk dried fruits vegetables</th>\n",
              "      <th>bulk grains rice dried goods</th>\n",
              "      <th>buns rolls</th>\n",
              "      <th>butter</th>\n",
              "      <th>candy chocolate</th>\n",
              "      <th>canned fruit applesauce</th>\n",
              "      <th>canned jarred vegetables</th>\n",
              "      <th>canned meals beans</th>\n",
              "      <th>canned meat seafood</th>\n",
              "      <th>cat food care</th>\n",
              "      <th>cereal</th>\n",
              "      <th>chips pretzels</th>\n",
              "      <th>cleaning products</th>\n",
              "      <th>cocoa drink mixes</th>\n",
              "      <th>coffee</th>\n",
              "      <th>cold flu allergy</th>\n",
              "      <th>condiments</th>\n",
              "      <th>cookies cakes</th>\n",
              "      <th>crackers</th>\n",
              "      <th>cream</th>\n",
              "      <th>deodorants</th>\n",
              "      <th>diapers wipes</th>\n",
              "      <th>digestion</th>\n",
              "      <th>dish detergents</th>\n",
              "      <th>dog food care</th>\n",
              "      <th>doughs gelatins bake mixes</th>\n",
              "      <th>...</th>\n",
              "      <th>packaged meat</th>\n",
              "      <th>packaged poultry</th>\n",
              "      <th>packaged produce</th>\n",
              "      <th>packaged seafood</th>\n",
              "      <th>packaged vegetables fruits</th>\n",
              "      <th>paper goods</th>\n",
              "      <th>pasta sauce</th>\n",
              "      <th>pickled goods olives</th>\n",
              "      <th>plates bowls cups flatware</th>\n",
              "      <th>popcorn jerky</th>\n",
              "      <th>poultry counter</th>\n",
              "      <th>prepared meals</th>\n",
              "      <th>prepared soups salads</th>\n",
              "      <th>preserved dips spreads</th>\n",
              "      <th>protein meal replacements</th>\n",
              "      <th>red wines</th>\n",
              "      <th>refrigerated</th>\n",
              "      <th>refrigerated pudding desserts</th>\n",
              "      <th>salad dressing toppings</th>\n",
              "      <th>seafood counter</th>\n",
              "      <th>shave needs</th>\n",
              "      <th>skin care</th>\n",
              "      <th>soap</th>\n",
              "      <th>soft drinks</th>\n",
              "      <th>soup broth bouillon</th>\n",
              "      <th>soy lactosefree</th>\n",
              "      <th>specialty cheeses</th>\n",
              "      <th>specialty wines champagnes</th>\n",
              "      <th>spices seasonings</th>\n",
              "      <th>spirits</th>\n",
              "      <th>spreads</th>\n",
              "      <th>tea</th>\n",
              "      <th>tofu meat alternatives</th>\n",
              "      <th>tortillas flat bread</th>\n",
              "      <th>trail mix snack mix</th>\n",
              "      <th>trash bags liners</th>\n",
              "      <th>vitamins supplements</th>\n",
              "      <th>water seltzer sparkling water</th>\n",
              "      <th>white wines</th>\n",
              "      <th>yogurt</th>\n",
              "    </tr>\n",
              "    <tr>\n",
              "      <th>user_id</th>\n",
              "      <th></th>\n",
              "      <th></th>\n",
              "      <th></th>\n",
              "      <th></th>\n",
              "      <th></th>\n",
              "      <th></th>\n",
              "      <th></th>\n",
              "      <th></th>\n",
              "      <th></th>\n",
              "      <th></th>\n",
              "      <th></th>\n",
              "      <th></th>\n",
              "      <th></th>\n",
              "      <th></th>\n",
              "      <th></th>\n",
              "      <th></th>\n",
              "      <th></th>\n",
              "      <th></th>\n",
              "      <th></th>\n",
              "      <th></th>\n",
              "      <th></th>\n",
              "      <th></th>\n",
              "      <th></th>\n",
              "      <th></th>\n",
              "      <th></th>\n",
              "      <th></th>\n",
              "      <th></th>\n",
              "      <th></th>\n",
              "      <th></th>\n",
              "      <th></th>\n",
              "      <th></th>\n",
              "      <th></th>\n",
              "      <th></th>\n",
              "      <th></th>\n",
              "      <th></th>\n",
              "      <th></th>\n",
              "      <th></th>\n",
              "      <th></th>\n",
              "      <th></th>\n",
              "      <th></th>\n",
              "      <th></th>\n",
              "      <th></th>\n",
              "      <th></th>\n",
              "      <th></th>\n",
              "      <th></th>\n",
              "      <th></th>\n",
              "      <th></th>\n",
              "      <th></th>\n",
              "      <th></th>\n",
              "      <th></th>\n",
              "      <th></th>\n",
              "      <th></th>\n",
              "      <th></th>\n",
              "      <th></th>\n",
              "      <th></th>\n",
              "      <th></th>\n",
              "      <th></th>\n",
              "      <th></th>\n",
              "      <th></th>\n",
              "      <th></th>\n",
              "      <th></th>\n",
              "      <th></th>\n",
              "      <th></th>\n",
              "      <th></th>\n",
              "      <th></th>\n",
              "      <th></th>\n",
              "      <th></th>\n",
              "      <th></th>\n",
              "      <th></th>\n",
              "      <th></th>\n",
              "      <th></th>\n",
              "      <th></th>\n",
              "      <th></th>\n",
              "      <th></th>\n",
              "      <th></th>\n",
              "      <th></th>\n",
              "      <th></th>\n",
              "      <th></th>\n",
              "      <th></th>\n",
              "      <th></th>\n",
              "      <th></th>\n",
              "    </tr>\n",
              "  </thead>\n",
              "  <tbody>\n",
              "    <tr>\n",
              "      <th>7</th>\n",
              "      <td>0</td>\n",
              "      <td>0</td>\n",
              "      <td>0</td>\n",
              "      <td>0</td>\n",
              "      <td>0</td>\n",
              "      <td>0</td>\n",
              "      <td>0</td>\n",
              "      <td>0</td>\n",
              "      <td>0</td>\n",
              "      <td>0</td>\n",
              "      <td>0</td>\n",
              "      <td>0</td>\n",
              "      <td>0</td>\n",
              "      <td>0</td>\n",
              "      <td>0</td>\n",
              "      <td>0</td>\n",
              "      <td>0</td>\n",
              "      <td>0</td>\n",
              "      <td>0</td>\n",
              "      <td>0</td>\n",
              "      <td>0</td>\n",
              "      <td>0</td>\n",
              "      <td>0</td>\n",
              "      <td>0</td>\n",
              "      <td>0</td>\n",
              "      <td>0</td>\n",
              "      <td>0</td>\n",
              "      <td>0</td>\n",
              "      <td>2</td>\n",
              "      <td>0</td>\n",
              "      <td>0</td>\n",
              "      <td>0</td>\n",
              "      <td>0</td>\n",
              "      <td>0</td>\n",
              "      <td>0</td>\n",
              "      <td>0</td>\n",
              "      <td>0</td>\n",
              "      <td>0</td>\n",
              "      <td>0</td>\n",
              "      <td>0</td>\n",
              "      <td>...</td>\n",
              "      <td>0</td>\n",
              "      <td>0</td>\n",
              "      <td>0</td>\n",
              "      <td>0</td>\n",
              "      <td>2</td>\n",
              "      <td>0</td>\n",
              "      <td>0</td>\n",
              "      <td>0</td>\n",
              "      <td>0</td>\n",
              "      <td>0</td>\n",
              "      <td>0</td>\n",
              "      <td>0</td>\n",
              "      <td>0</td>\n",
              "      <td>0</td>\n",
              "      <td>0</td>\n",
              "      <td>0</td>\n",
              "      <td>0</td>\n",
              "      <td>0</td>\n",
              "      <td>0</td>\n",
              "      <td>0</td>\n",
              "      <td>0</td>\n",
              "      <td>0</td>\n",
              "      <td>0</td>\n",
              "      <td>0</td>\n",
              "      <td>0</td>\n",
              "      <td>1</td>\n",
              "      <td>0</td>\n",
              "      <td>0</td>\n",
              "      <td>0</td>\n",
              "      <td>0</td>\n",
              "      <td>0</td>\n",
              "      <td>0</td>\n",
              "      <td>0</td>\n",
              "      <td>0</td>\n",
              "      <td>0</td>\n",
              "      <td>0</td>\n",
              "      <td>0</td>\n",
              "      <td>0</td>\n",
              "      <td>0</td>\n",
              "      <td>0</td>\n",
              "    </tr>\n",
              "    <tr>\n",
              "      <th>13</th>\n",
              "      <td>0</td>\n",
              "      <td>0</td>\n",
              "      <td>0</td>\n",
              "      <td>0</td>\n",
              "      <td>0</td>\n",
              "      <td>0</td>\n",
              "      <td>1</td>\n",
              "      <td>0</td>\n",
              "      <td>0</td>\n",
              "      <td>0</td>\n",
              "      <td>0</td>\n",
              "      <td>0</td>\n",
              "      <td>0</td>\n",
              "      <td>0</td>\n",
              "      <td>0</td>\n",
              "      <td>0</td>\n",
              "      <td>0</td>\n",
              "      <td>0</td>\n",
              "      <td>0</td>\n",
              "      <td>0</td>\n",
              "      <td>0</td>\n",
              "      <td>1</td>\n",
              "      <td>0</td>\n",
              "      <td>0</td>\n",
              "      <td>0</td>\n",
              "      <td>0</td>\n",
              "      <td>0</td>\n",
              "      <td>0</td>\n",
              "      <td>0</td>\n",
              "      <td>0</td>\n",
              "      <td>0</td>\n",
              "      <td>0</td>\n",
              "      <td>0</td>\n",
              "      <td>1</td>\n",
              "      <td>0</td>\n",
              "      <td>0</td>\n",
              "      <td>0</td>\n",
              "      <td>0</td>\n",
              "      <td>0</td>\n",
              "      <td>0</td>\n",
              "      <td>...</td>\n",
              "      <td>0</td>\n",
              "      <td>0</td>\n",
              "      <td>0</td>\n",
              "      <td>0</td>\n",
              "      <td>0</td>\n",
              "      <td>0</td>\n",
              "      <td>0</td>\n",
              "      <td>0</td>\n",
              "      <td>0</td>\n",
              "      <td>0</td>\n",
              "      <td>0</td>\n",
              "      <td>0</td>\n",
              "      <td>0</td>\n",
              "      <td>0</td>\n",
              "      <td>0</td>\n",
              "      <td>0</td>\n",
              "      <td>0</td>\n",
              "      <td>0</td>\n",
              "      <td>0</td>\n",
              "      <td>0</td>\n",
              "      <td>0</td>\n",
              "      <td>0</td>\n",
              "      <td>0</td>\n",
              "      <td>0</td>\n",
              "      <td>0</td>\n",
              "      <td>0</td>\n",
              "      <td>0</td>\n",
              "      <td>0</td>\n",
              "      <td>0</td>\n",
              "      <td>0</td>\n",
              "      <td>0</td>\n",
              "      <td>0</td>\n",
              "      <td>0</td>\n",
              "      <td>1</td>\n",
              "      <td>0</td>\n",
              "      <td>0</td>\n",
              "      <td>0</td>\n",
              "      <td>0</td>\n",
              "      <td>0</td>\n",
              "      <td>0</td>\n",
              "    </tr>\n",
              "    <tr>\n",
              "      <th>23</th>\n",
              "      <td>0</td>\n",
              "      <td>0</td>\n",
              "      <td>0</td>\n",
              "      <td>0</td>\n",
              "      <td>0</td>\n",
              "      <td>0</td>\n",
              "      <td>0</td>\n",
              "      <td>0</td>\n",
              "      <td>1</td>\n",
              "      <td>0</td>\n",
              "      <td>0</td>\n",
              "      <td>0</td>\n",
              "      <td>1</td>\n",
              "      <td>0</td>\n",
              "      <td>0</td>\n",
              "      <td>0</td>\n",
              "      <td>0</td>\n",
              "      <td>0</td>\n",
              "      <td>0</td>\n",
              "      <td>0</td>\n",
              "      <td>0</td>\n",
              "      <td>0</td>\n",
              "      <td>0</td>\n",
              "      <td>0</td>\n",
              "      <td>0</td>\n",
              "      <td>0</td>\n",
              "      <td>0</td>\n",
              "      <td>0</td>\n",
              "      <td>0</td>\n",
              "      <td>0</td>\n",
              "      <td>0</td>\n",
              "      <td>0</td>\n",
              "      <td>0</td>\n",
              "      <td>0</td>\n",
              "      <td>0</td>\n",
              "      <td>0</td>\n",
              "      <td>0</td>\n",
              "      <td>1</td>\n",
              "      <td>0</td>\n",
              "      <td>0</td>\n",
              "      <td>...</td>\n",
              "      <td>0</td>\n",
              "      <td>0</td>\n",
              "      <td>0</td>\n",
              "      <td>0</td>\n",
              "      <td>1</td>\n",
              "      <td>0</td>\n",
              "      <td>0</td>\n",
              "      <td>0</td>\n",
              "      <td>0</td>\n",
              "      <td>0</td>\n",
              "      <td>0</td>\n",
              "      <td>0</td>\n",
              "      <td>0</td>\n",
              "      <td>0</td>\n",
              "      <td>0</td>\n",
              "      <td>0</td>\n",
              "      <td>0</td>\n",
              "      <td>0</td>\n",
              "      <td>0</td>\n",
              "      <td>0</td>\n",
              "      <td>0</td>\n",
              "      <td>0</td>\n",
              "      <td>0</td>\n",
              "      <td>0</td>\n",
              "      <td>0</td>\n",
              "      <td>0</td>\n",
              "      <td>0</td>\n",
              "      <td>0</td>\n",
              "      <td>0</td>\n",
              "      <td>0</td>\n",
              "      <td>0</td>\n",
              "      <td>0</td>\n",
              "      <td>0</td>\n",
              "      <td>0</td>\n",
              "      <td>0</td>\n",
              "      <td>0</td>\n",
              "      <td>0</td>\n",
              "      <td>1</td>\n",
              "      <td>0</td>\n",
              "      <td>4</td>\n",
              "    </tr>\n",
              "    <tr>\n",
              "      <th>27</th>\n",
              "      <td>0</td>\n",
              "      <td>0</td>\n",
              "      <td>0</td>\n",
              "      <td>0</td>\n",
              "      <td>0</td>\n",
              "      <td>0</td>\n",
              "      <td>0</td>\n",
              "      <td>0</td>\n",
              "      <td>0</td>\n",
              "      <td>0</td>\n",
              "      <td>0</td>\n",
              "      <td>0</td>\n",
              "      <td>0</td>\n",
              "      <td>0</td>\n",
              "      <td>0</td>\n",
              "      <td>0</td>\n",
              "      <td>0</td>\n",
              "      <td>0</td>\n",
              "      <td>0</td>\n",
              "      <td>0</td>\n",
              "      <td>0</td>\n",
              "      <td>0</td>\n",
              "      <td>0</td>\n",
              "      <td>0</td>\n",
              "      <td>0</td>\n",
              "      <td>0</td>\n",
              "      <td>0</td>\n",
              "      <td>0</td>\n",
              "      <td>0</td>\n",
              "      <td>0</td>\n",
              "      <td>0</td>\n",
              "      <td>0</td>\n",
              "      <td>0</td>\n",
              "      <td>0</td>\n",
              "      <td>0</td>\n",
              "      <td>0</td>\n",
              "      <td>0</td>\n",
              "      <td>0</td>\n",
              "      <td>0</td>\n",
              "      <td>0</td>\n",
              "      <td>...</td>\n",
              "      <td>0</td>\n",
              "      <td>0</td>\n",
              "      <td>0</td>\n",
              "      <td>0</td>\n",
              "      <td>0</td>\n",
              "      <td>0</td>\n",
              "      <td>0</td>\n",
              "      <td>0</td>\n",
              "      <td>0</td>\n",
              "      <td>2</td>\n",
              "      <td>0</td>\n",
              "      <td>0</td>\n",
              "      <td>0</td>\n",
              "      <td>0</td>\n",
              "      <td>0</td>\n",
              "      <td>0</td>\n",
              "      <td>0</td>\n",
              "      <td>0</td>\n",
              "      <td>0</td>\n",
              "      <td>0</td>\n",
              "      <td>0</td>\n",
              "      <td>0</td>\n",
              "      <td>0</td>\n",
              "      <td>0</td>\n",
              "      <td>0</td>\n",
              "      <td>0</td>\n",
              "      <td>0</td>\n",
              "      <td>0</td>\n",
              "      <td>0</td>\n",
              "      <td>0</td>\n",
              "      <td>0</td>\n",
              "      <td>0</td>\n",
              "      <td>0</td>\n",
              "      <td>0</td>\n",
              "      <td>0</td>\n",
              "      <td>0</td>\n",
              "      <td>0</td>\n",
              "      <td>1</td>\n",
              "      <td>0</td>\n",
              "      <td>4</td>\n",
              "    </tr>\n",
              "    <tr>\n",
              "      <th>36</th>\n",
              "      <td>0</td>\n",
              "      <td>0</td>\n",
              "      <td>0</td>\n",
              "      <td>0</td>\n",
              "      <td>0</td>\n",
              "      <td>0</td>\n",
              "      <td>0</td>\n",
              "      <td>0</td>\n",
              "      <td>0</td>\n",
              "      <td>1</td>\n",
              "      <td>0</td>\n",
              "      <td>0</td>\n",
              "      <td>0</td>\n",
              "      <td>0</td>\n",
              "      <td>0</td>\n",
              "      <td>0</td>\n",
              "      <td>0</td>\n",
              "      <td>0</td>\n",
              "      <td>2</td>\n",
              "      <td>0</td>\n",
              "      <td>0</td>\n",
              "      <td>0</td>\n",
              "      <td>0</td>\n",
              "      <td>0</td>\n",
              "      <td>0</td>\n",
              "      <td>0</td>\n",
              "      <td>0</td>\n",
              "      <td>0</td>\n",
              "      <td>0</td>\n",
              "      <td>0</td>\n",
              "      <td>0</td>\n",
              "      <td>0</td>\n",
              "      <td>0</td>\n",
              "      <td>0</td>\n",
              "      <td>0</td>\n",
              "      <td>0</td>\n",
              "      <td>0</td>\n",
              "      <td>0</td>\n",
              "      <td>0</td>\n",
              "      <td>0</td>\n",
              "      <td>...</td>\n",
              "      <td>0</td>\n",
              "      <td>0</td>\n",
              "      <td>0</td>\n",
              "      <td>0</td>\n",
              "      <td>0</td>\n",
              "      <td>0</td>\n",
              "      <td>0</td>\n",
              "      <td>0</td>\n",
              "      <td>0</td>\n",
              "      <td>0</td>\n",
              "      <td>0</td>\n",
              "      <td>0</td>\n",
              "      <td>0</td>\n",
              "      <td>0</td>\n",
              "      <td>0</td>\n",
              "      <td>0</td>\n",
              "      <td>0</td>\n",
              "      <td>0</td>\n",
              "      <td>0</td>\n",
              "      <td>0</td>\n",
              "      <td>0</td>\n",
              "      <td>0</td>\n",
              "      <td>0</td>\n",
              "      <td>0</td>\n",
              "      <td>0</td>\n",
              "      <td>0</td>\n",
              "      <td>0</td>\n",
              "      <td>0</td>\n",
              "      <td>0</td>\n",
              "      <td>0</td>\n",
              "      <td>0</td>\n",
              "      <td>0</td>\n",
              "      <td>0</td>\n",
              "      <td>0</td>\n",
              "      <td>0</td>\n",
              "      <td>0</td>\n",
              "      <td>0</td>\n",
              "      <td>0</td>\n",
              "      <td>0</td>\n",
              "      <td>0</td>\n",
              "    </tr>\n",
              "    <tr>\n",
              "      <th>42</th>\n",
              "      <td>0</td>\n",
              "      <td>0</td>\n",
              "      <td>0</td>\n",
              "      <td>0</td>\n",
              "      <td>0</td>\n",
              "      <td>0</td>\n",
              "      <td>0</td>\n",
              "      <td>0</td>\n",
              "      <td>0</td>\n",
              "      <td>0</td>\n",
              "      <td>0</td>\n",
              "      <td>0</td>\n",
              "      <td>0</td>\n",
              "      <td>0</td>\n",
              "      <td>0</td>\n",
              "      <td>0</td>\n",
              "      <td>0</td>\n",
              "      <td>0</td>\n",
              "      <td>0</td>\n",
              "      <td>0</td>\n",
              "      <td>0</td>\n",
              "      <td>0</td>\n",
              "      <td>1</td>\n",
              "      <td>0</td>\n",
              "      <td>0</td>\n",
              "      <td>0</td>\n",
              "      <td>0</td>\n",
              "      <td>0</td>\n",
              "      <td>0</td>\n",
              "      <td>0</td>\n",
              "      <td>0</td>\n",
              "      <td>0</td>\n",
              "      <td>0</td>\n",
              "      <td>0</td>\n",
              "      <td>0</td>\n",
              "      <td>0</td>\n",
              "      <td>0</td>\n",
              "      <td>0</td>\n",
              "      <td>0</td>\n",
              "      <td>0</td>\n",
              "      <td>...</td>\n",
              "      <td>0</td>\n",
              "      <td>0</td>\n",
              "      <td>0</td>\n",
              "      <td>0</td>\n",
              "      <td>0</td>\n",
              "      <td>0</td>\n",
              "      <td>0</td>\n",
              "      <td>0</td>\n",
              "      <td>0</td>\n",
              "      <td>0</td>\n",
              "      <td>0</td>\n",
              "      <td>0</td>\n",
              "      <td>0</td>\n",
              "      <td>0</td>\n",
              "      <td>0</td>\n",
              "      <td>0</td>\n",
              "      <td>0</td>\n",
              "      <td>0</td>\n",
              "      <td>0</td>\n",
              "      <td>0</td>\n",
              "      <td>0</td>\n",
              "      <td>0</td>\n",
              "      <td>0</td>\n",
              "      <td>0</td>\n",
              "      <td>0</td>\n",
              "      <td>0</td>\n",
              "      <td>0</td>\n",
              "      <td>0</td>\n",
              "      <td>0</td>\n",
              "      <td>0</td>\n",
              "      <td>0</td>\n",
              "      <td>0</td>\n",
              "      <td>0</td>\n",
              "      <td>0</td>\n",
              "      <td>0</td>\n",
              "      <td>0</td>\n",
              "      <td>0</td>\n",
              "      <td>0</td>\n",
              "      <td>0</td>\n",
              "      <td>0</td>\n",
              "    </tr>\n",
              "    <tr>\n",
              "      <th>66</th>\n",
              "      <td>0</td>\n",
              "      <td>0</td>\n",
              "      <td>0</td>\n",
              "      <td>0</td>\n",
              "      <td>0</td>\n",
              "      <td>0</td>\n",
              "      <td>1</td>\n",
              "      <td>0</td>\n",
              "      <td>0</td>\n",
              "      <td>0</td>\n",
              "      <td>0</td>\n",
              "      <td>1</td>\n",
              "      <td>1</td>\n",
              "      <td>0</td>\n",
              "      <td>0</td>\n",
              "      <td>0</td>\n",
              "      <td>0</td>\n",
              "      <td>0</td>\n",
              "      <td>2</td>\n",
              "      <td>0</td>\n",
              "      <td>0</td>\n",
              "      <td>0</td>\n",
              "      <td>0</td>\n",
              "      <td>0</td>\n",
              "      <td>0</td>\n",
              "      <td>0</td>\n",
              "      <td>0</td>\n",
              "      <td>0</td>\n",
              "      <td>0</td>\n",
              "      <td>0</td>\n",
              "      <td>0</td>\n",
              "      <td>0</td>\n",
              "      <td>0</td>\n",
              "      <td>0</td>\n",
              "      <td>0</td>\n",
              "      <td>0</td>\n",
              "      <td>0</td>\n",
              "      <td>0</td>\n",
              "      <td>0</td>\n",
              "      <td>0</td>\n",
              "      <td>...</td>\n",
              "      <td>0</td>\n",
              "      <td>0</td>\n",
              "      <td>0</td>\n",
              "      <td>0</td>\n",
              "      <td>0</td>\n",
              "      <td>0</td>\n",
              "      <td>0</td>\n",
              "      <td>0</td>\n",
              "      <td>0</td>\n",
              "      <td>0</td>\n",
              "      <td>0</td>\n",
              "      <td>0</td>\n",
              "      <td>0</td>\n",
              "      <td>0</td>\n",
              "      <td>0</td>\n",
              "      <td>0</td>\n",
              "      <td>0</td>\n",
              "      <td>0</td>\n",
              "      <td>0</td>\n",
              "      <td>0</td>\n",
              "      <td>0</td>\n",
              "      <td>0</td>\n",
              "      <td>0</td>\n",
              "      <td>0</td>\n",
              "      <td>0</td>\n",
              "      <td>0</td>\n",
              "      <td>0</td>\n",
              "      <td>0</td>\n",
              "      <td>0</td>\n",
              "      <td>0</td>\n",
              "      <td>0</td>\n",
              "      <td>0</td>\n",
              "      <td>0</td>\n",
              "      <td>0</td>\n",
              "      <td>0</td>\n",
              "      <td>0</td>\n",
              "      <td>0</td>\n",
              "      <td>0</td>\n",
              "      <td>0</td>\n",
              "      <td>0</td>\n",
              "    </tr>\n",
              "    <tr>\n",
              "      <th>67</th>\n",
              "      <td>0</td>\n",
              "      <td>0</td>\n",
              "      <td>0</td>\n",
              "      <td>0</td>\n",
              "      <td>0</td>\n",
              "      <td>0</td>\n",
              "      <td>0</td>\n",
              "      <td>0</td>\n",
              "      <td>0</td>\n",
              "      <td>0</td>\n",
              "      <td>0</td>\n",
              "      <td>0</td>\n",
              "      <td>0</td>\n",
              "      <td>0</td>\n",
              "      <td>0</td>\n",
              "      <td>0</td>\n",
              "      <td>0</td>\n",
              "      <td>0</td>\n",
              "      <td>0</td>\n",
              "      <td>0</td>\n",
              "      <td>0</td>\n",
              "      <td>0</td>\n",
              "      <td>0</td>\n",
              "      <td>0</td>\n",
              "      <td>0</td>\n",
              "      <td>0</td>\n",
              "      <td>0</td>\n",
              "      <td>0</td>\n",
              "      <td>0</td>\n",
              "      <td>0</td>\n",
              "      <td>0</td>\n",
              "      <td>0</td>\n",
              "      <td>0</td>\n",
              "      <td>0</td>\n",
              "      <td>0</td>\n",
              "      <td>0</td>\n",
              "      <td>0</td>\n",
              "      <td>0</td>\n",
              "      <td>0</td>\n",
              "      <td>0</td>\n",
              "      <td>...</td>\n",
              "      <td>0</td>\n",
              "      <td>0</td>\n",
              "      <td>0</td>\n",
              "      <td>0</td>\n",
              "      <td>0</td>\n",
              "      <td>0</td>\n",
              "      <td>0</td>\n",
              "      <td>0</td>\n",
              "      <td>0</td>\n",
              "      <td>0</td>\n",
              "      <td>0</td>\n",
              "      <td>0</td>\n",
              "      <td>0</td>\n",
              "      <td>0</td>\n",
              "      <td>0</td>\n",
              "      <td>0</td>\n",
              "      <td>0</td>\n",
              "      <td>0</td>\n",
              "      <td>0</td>\n",
              "      <td>0</td>\n",
              "      <td>0</td>\n",
              "      <td>0</td>\n",
              "      <td>0</td>\n",
              "      <td>1</td>\n",
              "      <td>0</td>\n",
              "      <td>0</td>\n",
              "      <td>0</td>\n",
              "      <td>0</td>\n",
              "      <td>0</td>\n",
              "      <td>0</td>\n",
              "      <td>0</td>\n",
              "      <td>0</td>\n",
              "      <td>0</td>\n",
              "      <td>0</td>\n",
              "      <td>0</td>\n",
              "      <td>0</td>\n",
              "      <td>0</td>\n",
              "      <td>1</td>\n",
              "      <td>0</td>\n",
              "      <td>0</td>\n",
              "    </tr>\n",
              "    <tr>\n",
              "      <th>70</th>\n",
              "      <td>0</td>\n",
              "      <td>0</td>\n",
              "      <td>0</td>\n",
              "      <td>0</td>\n",
              "      <td>0</td>\n",
              "      <td>0</td>\n",
              "      <td>0</td>\n",
              "      <td>0</td>\n",
              "      <td>0</td>\n",
              "      <td>0</td>\n",
              "      <td>0</td>\n",
              "      <td>0</td>\n",
              "      <td>0</td>\n",
              "      <td>0</td>\n",
              "      <td>0</td>\n",
              "      <td>0</td>\n",
              "      <td>0</td>\n",
              "      <td>1</td>\n",
              "      <td>0</td>\n",
              "      <td>0</td>\n",
              "      <td>0</td>\n",
              "      <td>0</td>\n",
              "      <td>0</td>\n",
              "      <td>0</td>\n",
              "      <td>0</td>\n",
              "      <td>1</td>\n",
              "      <td>0</td>\n",
              "      <td>0</td>\n",
              "      <td>0</td>\n",
              "      <td>0</td>\n",
              "      <td>0</td>\n",
              "      <td>0</td>\n",
              "      <td>0</td>\n",
              "      <td>0</td>\n",
              "      <td>0</td>\n",
              "      <td>0</td>\n",
              "      <td>0</td>\n",
              "      <td>0</td>\n",
              "      <td>0</td>\n",
              "      <td>0</td>\n",
              "      <td>...</td>\n",
              "      <td>0</td>\n",
              "      <td>0</td>\n",
              "      <td>0</td>\n",
              "      <td>0</td>\n",
              "      <td>0</td>\n",
              "      <td>0</td>\n",
              "      <td>0</td>\n",
              "      <td>0</td>\n",
              "      <td>0</td>\n",
              "      <td>0</td>\n",
              "      <td>0</td>\n",
              "      <td>0</td>\n",
              "      <td>0</td>\n",
              "      <td>0</td>\n",
              "      <td>0</td>\n",
              "      <td>0</td>\n",
              "      <td>0</td>\n",
              "      <td>0</td>\n",
              "      <td>0</td>\n",
              "      <td>0</td>\n",
              "      <td>0</td>\n",
              "      <td>0</td>\n",
              "      <td>0</td>\n",
              "      <td>0</td>\n",
              "      <td>0</td>\n",
              "      <td>0</td>\n",
              "      <td>0</td>\n",
              "      <td>0</td>\n",
              "      <td>0</td>\n",
              "      <td>0</td>\n",
              "      <td>0</td>\n",
              "      <td>0</td>\n",
              "      <td>0</td>\n",
              "      <td>0</td>\n",
              "      <td>0</td>\n",
              "      <td>0</td>\n",
              "      <td>0</td>\n",
              "      <td>0</td>\n",
              "      <td>0</td>\n",
              "      <td>1</td>\n",
              "    </tr>\n",
              "    <tr>\n",
              "      <th>71</th>\n",
              "      <td>0</td>\n",
              "      <td>0</td>\n",
              "      <td>0</td>\n",
              "      <td>0</td>\n",
              "      <td>0</td>\n",
              "      <td>0</td>\n",
              "      <td>1</td>\n",
              "      <td>0</td>\n",
              "      <td>0</td>\n",
              "      <td>0</td>\n",
              "      <td>0</td>\n",
              "      <td>0</td>\n",
              "      <td>1</td>\n",
              "      <td>0</td>\n",
              "      <td>0</td>\n",
              "      <td>0</td>\n",
              "      <td>0</td>\n",
              "      <td>1</td>\n",
              "      <td>0</td>\n",
              "      <td>0</td>\n",
              "      <td>0</td>\n",
              "      <td>0</td>\n",
              "      <td>0</td>\n",
              "      <td>0</td>\n",
              "      <td>0</td>\n",
              "      <td>0</td>\n",
              "      <td>0</td>\n",
              "      <td>0</td>\n",
              "      <td>0</td>\n",
              "      <td>0</td>\n",
              "      <td>0</td>\n",
              "      <td>0</td>\n",
              "      <td>0</td>\n",
              "      <td>1</td>\n",
              "      <td>0</td>\n",
              "      <td>0</td>\n",
              "      <td>0</td>\n",
              "      <td>1</td>\n",
              "      <td>0</td>\n",
              "      <td>0</td>\n",
              "      <td>...</td>\n",
              "      <td>0</td>\n",
              "      <td>0</td>\n",
              "      <td>0</td>\n",
              "      <td>0</td>\n",
              "      <td>1</td>\n",
              "      <td>0</td>\n",
              "      <td>0</td>\n",
              "      <td>0</td>\n",
              "      <td>0</td>\n",
              "      <td>0</td>\n",
              "      <td>0</td>\n",
              "      <td>0</td>\n",
              "      <td>0</td>\n",
              "      <td>0</td>\n",
              "      <td>0</td>\n",
              "      <td>0</td>\n",
              "      <td>0</td>\n",
              "      <td>0</td>\n",
              "      <td>0</td>\n",
              "      <td>0</td>\n",
              "      <td>0</td>\n",
              "      <td>0</td>\n",
              "      <td>0</td>\n",
              "      <td>0</td>\n",
              "      <td>0</td>\n",
              "      <td>0</td>\n",
              "      <td>1</td>\n",
              "      <td>0</td>\n",
              "      <td>0</td>\n",
              "      <td>0</td>\n",
              "      <td>2</td>\n",
              "      <td>0</td>\n",
              "      <td>0</td>\n",
              "      <td>0</td>\n",
              "      <td>0</td>\n",
              "      <td>0</td>\n",
              "      <td>0</td>\n",
              "      <td>0</td>\n",
              "      <td>0</td>\n",
              "      <td>3</td>\n",
              "    </tr>\n",
              "  </tbody>\n",
              "</table>\n",
              "<p>10 rows × 134 columns</p>\n",
              "</div>"
            ],
            "text/plain": [
              "aisle    air fresheners candles  asian foods  ...  white wines  yogurt\n",
              "user_id                                       ...                     \n",
              "7                             0            0  ...            0       0\n",
              "13                            0            0  ...            0       0\n",
              "23                            0            0  ...            0       4\n",
              "27                            0            0  ...            0       4\n",
              "36                            0            0  ...            0       0\n",
              "42                            0            0  ...            0       0\n",
              "66                            0            0  ...            0       0\n",
              "67                            0            0  ...            0       0\n",
              "70                            0            0  ...            0       1\n",
              "71                            0            0  ...            0       3\n",
              "\n",
              "[10 rows x 134 columns]"
            ]
          },
          "metadata": {
            "tags": []
          },
          "execution_count": 90
        }
      ]
    },
    {
      "cell_type": "code",
      "metadata": {
        "colab": {
          "base_uri": "https://localhost:8080/",
          "height": 204
        },
        "id": "9PhFKYcfAw9Y",
        "outputId": "83fb7774-2798-47de-975b-5fc9292c9c78"
      },
      "source": [
        "from sklearn.decomposition import PCA\n",
        "pca = PCA(n_components=6)\n",
        "pca.fit(cust_prod)\n",
        "pca_samples = pca.transform(cust_prod)\n",
        "ps = pd.DataFrame(pca_samples)\n",
        "ps.head()"
      ],
      "execution_count": 93,
      "outputs": [
        {
          "output_type": "execute_result",
          "data": {
            "text/html": [
              "<div>\n",
              "<style scoped>\n",
              "    .dataframe tbody tr th:only-of-type {\n",
              "        vertical-align: middle;\n",
              "    }\n",
              "\n",
              "    .dataframe tbody tr th {\n",
              "        vertical-align: top;\n",
              "    }\n",
              "\n",
              "    .dataframe thead th {\n",
              "        text-align: right;\n",
              "    }\n",
              "</style>\n",
              "<table border=\"1\" class=\"dataframe\">\n",
              "  <thead>\n",
              "    <tr style=\"text-align: right;\">\n",
              "      <th></th>\n",
              "      <th>0</th>\n",
              "      <th>1</th>\n",
              "      <th>2</th>\n",
              "      <th>3</th>\n",
              "      <th>4</th>\n",
              "      <th>5</th>\n",
              "    </tr>\n",
              "  </thead>\n",
              "  <tbody>\n",
              "    <tr>\n",
              "      <th>0</th>\n",
              "      <td>-0.286251</td>\n",
              "      <td>1.005868</td>\n",
              "      <td>-1.030293</td>\n",
              "      <td>-0.898986</td>\n",
              "      <td>-0.587630</td>\n",
              "      <td>-0.998631</td>\n",
              "    </tr>\n",
              "    <tr>\n",
              "      <th>1</th>\n",
              "      <td>-1.972748</td>\n",
              "      <td>-0.487659</td>\n",
              "      <td>-0.120542</td>\n",
              "      <td>0.213069</td>\n",
              "      <td>0.045932</td>\n",
              "      <td>-0.181725</td>\n",
              "    </tr>\n",
              "    <tr>\n",
              "      <th>2</th>\n",
              "      <td>-1.168974</td>\n",
              "      <td>1.284089</td>\n",
              "      <td>3.228124</td>\n",
              "      <td>0.594049</td>\n",
              "      <td>-0.648860</td>\n",
              "      <td>-1.091803</td>\n",
              "    </tr>\n",
              "    <tr>\n",
              "      <th>3</th>\n",
              "      <td>-1.433967</td>\n",
              "      <td>1.250081</td>\n",
              "      <td>3.261985</td>\n",
              "      <td>1.237752</td>\n",
              "      <td>-0.353547</td>\n",
              "      <td>-0.346450</td>\n",
              "    </tr>\n",
              "    <tr>\n",
              "      <th>4</th>\n",
              "      <td>-2.070709</td>\n",
              "      <td>-0.422148</td>\n",
              "      <td>-0.101552</td>\n",
              "      <td>0.278099</td>\n",
              "      <td>0.006048</td>\n",
              "      <td>-0.097179</td>\n",
              "    </tr>\n",
              "  </tbody>\n",
              "</table>\n",
              "</div>"
            ],
            "text/plain": [
              "          0         1         2         3         4         5\n",
              "0 -0.286251  1.005868 -1.030293 -0.898986 -0.587630 -0.998631\n",
              "1 -1.972748 -0.487659 -0.120542  0.213069  0.045932 -0.181725\n",
              "2 -1.168974  1.284089  3.228124  0.594049 -0.648860 -1.091803\n",
              "3 -1.433967  1.250081  3.261985  1.237752 -0.353547 -0.346450\n",
              "4 -2.070709 -0.422148 -0.101552  0.278099  0.006048 -0.097179"
            ]
          },
          "metadata": {
            "tags": []
          },
          "execution_count": 93
        }
      ]
    },
    {
      "cell_type": "code",
      "metadata": {
        "colab": {
          "base_uri": "https://localhost:8080/",
          "height": 617
        },
        "id": "zTpG81u9Aw6e",
        "outputId": "2b85382a-cfc2-48a1-9216-3c72ebae1e3e"
      },
      "source": [
        "tocluster = pd.DataFrame(ps[[4,1]])\n",
        "print (tocluster.shape)\n",
        "print (tocluster.head())\n",
        "\n",
        "fig = plt.figure(figsize=(8,8))\n",
        "plt.plot(tocluster[4], tocluster[1], 'o', markersize=2, color='blue', alpha=0.5, label='class1')\n",
        "\n",
        "plt.xlabel('x_values')\n",
        "plt.ylabel('y_values')\n",
        "plt.legend()\n",
        "plt.show()"
      ],
      "execution_count": 97,
      "outputs": [
        {
          "output_type": "stream",
          "text": [
            "(25831, 2)\n",
            "          4         1\n",
            "0 -0.587630  1.005868\n",
            "1  0.045932 -0.487659\n",
            "2 -0.648860  1.284089\n",
            "3 -0.353547  1.250081\n",
            "4  0.006048 -0.422148\n"
          ],
          "name": "stdout"
        },
        {
          "output_type": "display_data",
          "data": {
            "image/png": "[encoded data removed]",
            "text/plain": [
              "<Figure size 576x576 with 1 Axes>"
            ]
          },
          "metadata": {
            "tags": [],
            "needs_background": "light"
          }
        }
      ]
    },
    {
      "cell_type": "markdown",
      "metadata": {
        "id": "05llnUilBLol"
      },
      "source": [
        "#### Performing K-means clustering"
      ]
    },
    {
      "cell_type": "code",
      "metadata": {
        "colab": {
          "base_uri": "https://localhost:8080/",
          "height": 515
        },
        "id": "iy-II0dNBIH9",
        "outputId": "2f38305f-b473-4716-8cfa-899a82654e27"
      },
      "source": [
        "clusterer = KMeans(n_clusters=4,random_state=42).fit(tocluster)\n",
        "centers = clusterer.cluster_centers_\n",
        "c_preds = clusterer.predict(tocluster)\n",
        "fig = plt.figure(figsize=(8,8))\n",
        "colors = ['orange','blue','purple','green']\n",
        "colored = [colors[k] for k in c_preds]\n",
        "print (colored[0:10])\n",
        "plt.scatter(tocluster[4],tocluster[1],  color = colored)\n",
        "for ci,c in enumerate(centers):\n",
        "    plt.plot(c[0], c[1], 'o', markersize=8, color='red', alpha=0.9, label=''+str(ci))\n",
        "\n",
        "plt.xlabel('x_values')\n",
        "plt.ylabel('y_values')\n",
        "plt.legend()\n",
        "plt.show()"
      ],
      "execution_count": 101,
      "outputs": [
        {
          "output_type": "stream",
          "text": [
            "['purple', 'orange', 'purple', 'purple', 'orange', 'orange', 'orange', 'orange', 'orange', 'orange']\n"
          ],
          "name": "stdout"
        },
        {
          "output_type": "display_data",
          "data": {
            "image/png": "[encoded data removed]",
            "text/plain": [
              "<Figure size 576x576 with 1 Axes>"
            ]
          },
          "metadata": {
            "tags": [],
            "needs_background": "light"
          }
        }
      ]
    },
    {
      "cell_type": "markdown",
      "metadata": {
        "id": "fK_zBmdFB-KG"
      },
      "source": [
        "Few clusters"
      ]
    },
    {
      "cell_type": "code",
      "metadata": {
        "colab": {
          "base_uri": "https://localhost:8080/"
        },
        "id": "sbMaMmZZBuAz",
        "outputId": "ed7b7b65-c91b-49c3-fdb6-dc86a8186176"
      },
      "source": [
        "clust_prod = cust_prod.copy()\n",
        "clust_prod['cluster'] = c_preds\n",
        "c0 = clust_prod[clust_prod['cluster']==0].drop('cluster',axis=1).mean()\n",
        "c0.sort_values(ascending=False)[0:10]"
      ],
      "execution_count": 106,
      "outputs": [
        {
          "output_type": "execute_result",
          "data": {
            "text/plain": [
              "aisle\n",
              "fresh fruits                     0.819091\n",
              "fresh vegetables                 0.738662\n",
              "packaged vegetables fruits       0.465503\n",
              "yogurt                           0.278352\n",
              "packaged cheese                  0.271336\n",
              "water seltzer sparkling water    0.262774\n",
              "milk                             0.249903\n",
              "chips pretzels                   0.205877\n",
              "soy lactosefree                  0.185660\n",
              "refrigerated                     0.164669\n",
              "dtype: float64"
            ]
          },
          "metadata": {
            "tags": []
          },
          "execution_count": 106
        }
      ]
    },
    {
      "cell_type": "code",
      "metadata": {
        "colab": {
          "base_uri": "https://localhost:8080/"
        },
        "id": "KoUCOsTuCAs5",
        "outputId": "031cf384-139e-4970-c54c-0580300b68e9"
      },
      "source": [
        "c2 = clust_prod[clust_prod['cluster']==2].drop('cluster',axis=1).mean()\n",
        "c2.sort_values(ascending=False)[0:10]"
      ],
      "execution_count": 108,
      "outputs": [
        {
          "output_type": "execute_result",
          "data": {
            "text/plain": [
              "aisle\n",
              "fresh fruits                     3.270228\n",
              "yogurt                           1.593429\n",
              "packaged vegetables fruits       1.078006\n",
              "fresh vegetables                 0.802414\n",
              "packaged cheese                  0.603487\n",
              "milk                             0.597228\n",
              "chips pretzels                   0.481672\n",
              "water seltzer sparkling water    0.452839\n",
              "energy granola bars              0.433169\n",
              "bread                            0.384220\n",
              "dtype: float64"
            ]
          },
          "metadata": {
            "tags": []
          },
          "execution_count": 108
        }
      ]
    },
    {
      "cell_type": "code",
      "metadata": {
        "id": "fT-GPnctCJva"
      },
      "source": [
        ""
      ],
      "execution_count": null,
      "outputs": []
    },
    {
      "cell_type": "markdown",
      "metadata": {
        "id": "5XuVIg31-ay1"
      },
      "source": [
        "### xgboost model"
      ]
    },
    {
      "cell_type": "code",
      "metadata": {
        "id": "s2VmKpkJIb4i"
      },
      "source": [
        "data_path = \"drive/My Drive/Hackathon/instacart_2017_05_01/\""
      ],
      "execution_count": 9,
      "outputs": []
    },
    {
      "cell_type": "code",
      "metadata": {
        "id": "gjpzi7JUIbw5"
      },
      "source": [
        "orders_df = pd.read_csv(data_path + \"orders.csv\", usecols=[\"order_id\",\"user_id\",\"order_number\"])"
      ],
      "execution_count": 10,
      "outputs": []
    },
    {
      "cell_type": "code",
      "metadata": {
        "id": "R1xFGAxS-dSG"
      },
      "source": [
        ""
      ],
      "execution_count": null,
      "outputs": []
    },
    {
      "cell_type": "code",
      "metadata": {
        "id": "45Mpa2jJT_RY",
        "colab": {
          "base_uri": "https://localhost:8080/",
          "height": 111
        },
        "outputId": "8b835c4c-7cb8-4262-c380-83af42fd6176"
      },
      "source": [
        "orders_df.head(2)"
      ],
      "execution_count": 11,
      "outputs": [
        {
          "output_type": "execute_result",
          "data": {
            "text/html": [
              "<div>\n",
              "<style scoped>\n",
              "    .dataframe tbody tr th:only-of-type {\n",
              "        vertical-align: middle;\n",
              "    }\n",
              "\n",
              "    .dataframe tbody tr th {\n",
              "        vertical-align: top;\n",
              "    }\n",
              "\n",
              "    .dataframe thead th {\n",
              "        text-align: right;\n",
              "    }\n",
              "</style>\n",
              "<table border=\"1\" class=\"dataframe\">\n",
              "  <thead>\n",
              "    <tr style=\"text-align: right;\">\n",
              "      <th></th>\n",
              "      <th>order_id</th>\n",
              "      <th>user_id</th>\n",
              "      <th>order_number</th>\n",
              "    </tr>\n",
              "  </thead>\n",
              "  <tbody>\n",
              "    <tr>\n",
              "      <th>0</th>\n",
              "      <td>2539329</td>\n",
              "      <td>1</td>\n",
              "      <td>1</td>\n",
              "    </tr>\n",
              "    <tr>\n",
              "      <th>1</th>\n",
              "      <td>2398795</td>\n",
              "      <td>1</td>\n",
              "      <td>2</td>\n",
              "    </tr>\n",
              "  </tbody>\n",
              "</table>\n",
              "</div>"
            ],
            "text/plain": [
              "   order_id  user_id  order_number\n",
              "0   2539329        1             1\n",
              "1   2398795        1             2"
            ]
          },
          "metadata": {
            "tags": []
          },
          "execution_count": 11
        }
      ]
    },
    {
      "cell_type": "code",
      "metadata": {
        "id": "tc664iNvIbl7"
      },
      "source": [
        "prior_df = pd.read_csv(data_path + \"order_products__prior.csv\")"
      ],
      "execution_count": 30,
      "outputs": []
    },
    {
      "cell_type": "code",
      "metadata": {
        "id": "cKUUsiDuT56B",
        "colab": {
          "base_uri": "https://localhost:8080/",
          "height": 111
        },
        "outputId": "ecb8ea41-2b8f-4786-c7bf-80e233c85739"
      },
      "source": [
        "prior_df.head(2)"
      ],
      "execution_count": 13,
      "outputs": [
        {
          "output_type": "execute_result",
          "data": {
            "text/html": [
              "<div>\n",
              "<style scoped>\n",
              "    .dataframe tbody tr th:only-of-type {\n",
              "        vertical-align: middle;\n",
              "    }\n",
              "\n",
              "    .dataframe tbody tr th {\n",
              "        vertical-align: top;\n",
              "    }\n",
              "\n",
              "    .dataframe thead th {\n",
              "        text-align: right;\n",
              "    }\n",
              "</style>\n",
              "<table border=\"1\" class=\"dataframe\">\n",
              "  <thead>\n",
              "    <tr style=\"text-align: right;\">\n",
              "      <th></th>\n",
              "      <th>order_id</th>\n",
              "      <th>product_id</th>\n",
              "      <th>add_to_cart_order</th>\n",
              "      <th>reordered</th>\n",
              "    </tr>\n",
              "  </thead>\n",
              "  <tbody>\n",
              "    <tr>\n",
              "      <th>0</th>\n",
              "      <td>2</td>\n",
              "      <td>33120</td>\n",
              "      <td>1</td>\n",
              "      <td>1</td>\n",
              "    </tr>\n",
              "    <tr>\n",
              "      <th>1</th>\n",
              "      <td>2</td>\n",
              "      <td>28985</td>\n",
              "      <td>2</td>\n",
              "      <td>1</td>\n",
              "    </tr>\n",
              "  </tbody>\n",
              "</table>\n",
              "</div>"
            ],
            "text/plain": [
              "   order_id  product_id  add_to_cart_order  reordered\n",
              "0         2       33120                  1          1\n",
              "1         2       28985                  2          1"
            ]
          },
          "metadata": {
            "tags": []
          },
          "execution_count": 13
        }
      ]
    },
    {
      "cell_type": "code",
      "metadata": {
        "id": "zqKohUWsUN9S"
      },
      "source": [
        "prior_df = pd.merge(prior_df, orders_df, how=\"inner\", on=\"order_id\")"
      ],
      "execution_count": 31,
      "outputs": []
    },
    {
      "cell_type": "code",
      "metadata": {
        "id": "F28ohiE5URr-",
        "colab": {
          "base_uri": "https://localhost:8080/",
          "height": 204
        },
        "outputId": "07df8fa8-2b5e-40e3-d0d7-4434fbccf330"
      },
      "source": [
        "prior_df.head()"
      ],
      "execution_count": 32,
      "outputs": [
        {
          "output_type": "execute_result",
          "data": {
            "text/html": [
              "<div>\n",
              "<style scoped>\n",
              "    .dataframe tbody tr th:only-of-type {\n",
              "        vertical-align: middle;\n",
              "    }\n",
              "\n",
              "    .dataframe tbody tr th {\n",
              "        vertical-align: top;\n",
              "    }\n",
              "\n",
              "    .dataframe thead th {\n",
              "        text-align: right;\n",
              "    }\n",
              "</style>\n",
              "<table border=\"1\" class=\"dataframe\">\n",
              "  <thead>\n",
              "    <tr style=\"text-align: right;\">\n",
              "      <th></th>\n",
              "      <th>order_id</th>\n",
              "      <th>product_id</th>\n",
              "      <th>add_to_cart_order</th>\n",
              "      <th>reordered</th>\n",
              "      <th>user_id</th>\n",
              "      <th>order_number</th>\n",
              "    </tr>\n",
              "  </thead>\n",
              "  <tbody>\n",
              "    <tr>\n",
              "      <th>0</th>\n",
              "      <td>2</td>\n",
              "      <td>33120</td>\n",
              "      <td>1</td>\n",
              "      <td>1</td>\n",
              "      <td>202279</td>\n",
              "      <td>3</td>\n",
              "    </tr>\n",
              "    <tr>\n",
              "      <th>1</th>\n",
              "      <td>2</td>\n",
              "      <td>28985</td>\n",
              "      <td>2</td>\n",
              "      <td>1</td>\n",
              "      <td>202279</td>\n",
              "      <td>3</td>\n",
              "    </tr>\n",
              "    <tr>\n",
              "      <th>2</th>\n",
              "      <td>2</td>\n",
              "      <td>9327</td>\n",
              "      <td>3</td>\n",
              "      <td>0</td>\n",
              "      <td>202279</td>\n",
              "      <td>3</td>\n",
              "    </tr>\n",
              "    <tr>\n",
              "      <th>3</th>\n",
              "      <td>2</td>\n",
              "      <td>45918</td>\n",
              "      <td>4</td>\n",
              "      <td>1</td>\n",
              "      <td>202279</td>\n",
              "      <td>3</td>\n",
              "    </tr>\n",
              "    <tr>\n",
              "      <th>4</th>\n",
              "      <td>2</td>\n",
              "      <td>30035</td>\n",
              "      <td>5</td>\n",
              "      <td>0</td>\n",
              "      <td>202279</td>\n",
              "      <td>3</td>\n",
              "    </tr>\n",
              "  </tbody>\n",
              "</table>\n",
              "</div>"
            ],
            "text/plain": [
              "   order_id  product_id  add_to_cart_order  reordered  user_id  order_number\n",
              "0         2       33120                  1          1   202279             3\n",
              "1         2       28985                  2          1   202279             3\n",
              "2         2        9327                  3          0   202279             3\n",
              "3         2       45918                  4          1   202279             3\n",
              "4         2       30035                  5          0   202279             3"
            ]
          },
          "metadata": {
            "tags": []
          },
          "execution_count": 32
        }
      ]
    },
    {
      "cell_type": "markdown",
      "metadata": {
        "id": "7OozTDgZWOyX"
      },
      "source": [
        "Group on the basis of user id and findout the total orders made by the user."
      ]
    },
    {
      "cell_type": "code",
      "metadata": {
        "id": "i8yBp8dsUE5W"
      },
      "source": [
        "prior_grouped_df = prior_df.groupby(\"user_id\")[\"order_number\"].aggregate(\"max\").reset_index()"
      ],
      "execution_count": 33,
      "outputs": []
    },
    {
      "cell_type": "code",
      "metadata": {
        "id": "0Zg1pc5MUe0O",
        "colab": {
          "base_uri": "https://localhost:8080/",
          "height": 204
        },
        "outputId": "6dda3a28-8faf-4f87-ee72-3213ed50f7f7"
      },
      "source": [
        "prior_grouped_df.head()"
      ],
      "execution_count": 34,
      "outputs": [
        {
          "output_type": "execute_result",
          "data": {
            "text/html": [
              "<div>\n",
              "<style scoped>\n",
              "    .dataframe tbody tr th:only-of-type {\n",
              "        vertical-align: middle;\n",
              "    }\n",
              "\n",
              "    .dataframe tbody tr th {\n",
              "        vertical-align: top;\n",
              "    }\n",
              "\n",
              "    .dataframe thead th {\n",
              "        text-align: right;\n",
              "    }\n",
              "</style>\n",
              "<table border=\"1\" class=\"dataframe\">\n",
              "  <thead>\n",
              "    <tr style=\"text-align: right;\">\n",
              "      <th></th>\n",
              "      <th>user_id</th>\n",
              "      <th>order_number</th>\n",
              "    </tr>\n",
              "  </thead>\n",
              "  <tbody>\n",
              "    <tr>\n",
              "      <th>0</th>\n",
              "      <td>1</td>\n",
              "      <td>10</td>\n",
              "    </tr>\n",
              "    <tr>\n",
              "      <th>1</th>\n",
              "      <td>2</td>\n",
              "      <td>14</td>\n",
              "    </tr>\n",
              "    <tr>\n",
              "      <th>2</th>\n",
              "      <td>3</td>\n",
              "      <td>12</td>\n",
              "    </tr>\n",
              "    <tr>\n",
              "      <th>3</th>\n",
              "      <td>4</td>\n",
              "      <td>5</td>\n",
              "    </tr>\n",
              "    <tr>\n",
              "      <th>4</th>\n",
              "      <td>5</td>\n",
              "      <td>4</td>\n",
              "    </tr>\n",
              "  </tbody>\n",
              "</table>\n",
              "</div>"
            ],
            "text/plain": [
              "   user_id  order_number\n",
              "0        1            10\n",
              "1        2            14\n",
              "2        3            12\n",
              "3        4             5\n",
              "4        5             4"
            ]
          },
          "metadata": {
            "tags": []
          },
          "execution_count": 34
        }
      ]
    },
    {
      "cell_type": "code",
      "metadata": {
        "id": "Bv-zySTwUocH"
      },
      "source": [
        "prior_df_latest = pd.merge(prior_df, prior_grouped_df, how=\"inner\", on=[\"user_id\", \"order_number\"])"
      ],
      "execution_count": 35,
      "outputs": []
    },
    {
      "cell_type": "code",
      "metadata": {
        "id": "dx3fM7i6U8Ol"
      },
      "source": [
        "prior_df_latest = prior_df_latest[[\"user_id\", \"product_id\", \"reordered\"]]"
      ],
      "execution_count": 36,
      "outputs": []
    },
    {
      "cell_type": "code",
      "metadata": {
        "id": "gYhHqkGxVCoH"
      },
      "source": [
        "prior_df_latest.columns = [\"user_id\", \"product_id\", \"reordered_latest\"]"
      ],
      "execution_count": 37,
      "outputs": []
    },
    {
      "cell_type": "code",
      "metadata": {
        "id": "u0aukPLbVEoy",
        "colab": {
          "base_uri": "https://localhost:8080/",
          "height": 111
        },
        "outputId": "a122c565-b09c-4c9f-c4f0-60f2409180b2"
      },
      "source": [
        "prior_df_latest.head(2)"
      ],
      "execution_count": 38,
      "outputs": [
        {
          "output_type": "execute_result",
          "data": {
            "text/html": [
              "<div>\n",
              "<style scoped>\n",
              "    .dataframe tbody tr th:only-of-type {\n",
              "        vertical-align: middle;\n",
              "    }\n",
              "\n",
              "    .dataframe tbody tr th {\n",
              "        vertical-align: top;\n",
              "    }\n",
              "\n",
              "    .dataframe thead th {\n",
              "        text-align: right;\n",
              "    }\n",
              "</style>\n",
              "<table border=\"1\" class=\"dataframe\">\n",
              "  <thead>\n",
              "    <tr style=\"text-align: right;\">\n",
              "      <th></th>\n",
              "      <th>user_id</th>\n",
              "      <th>product_id</th>\n",
              "      <th>reordered_latest</th>\n",
              "    </tr>\n",
              "  </thead>\n",
              "  <tbody>\n",
              "    <tr>\n",
              "      <th>0</th>\n",
              "      <td>59897</td>\n",
              "      <td>9755</td>\n",
              "      <td>1</td>\n",
              "    </tr>\n",
              "    <tr>\n",
              "      <th>1</th>\n",
              "      <td>59897</td>\n",
              "      <td>31487</td>\n",
              "      <td>0</td>\n",
              "    </tr>\n",
              "  </tbody>\n",
              "</table>\n",
              "</div>"
            ],
            "text/plain": [
              "   user_id  product_id  reordered_latest\n",
              "0    59897        9755                 1\n",
              "1    59897       31487                 0"
            ]
          },
          "metadata": {
            "tags": []
          },
          "execution_count": 38
        }
      ]
    },
    {
      "cell_type": "markdown",
      "metadata": {
        "id": "bmRzZ1S4WEC_"
      },
      "source": [
        "Group on the basis of  user id and product id to get number of times user have bought the item."
      ]
    },
    {
      "cell_type": "code",
      "metadata": {
        "id": "pb2ZJrGlVYi1"
      },
      "source": [
        "prior_df = prior_df.groupby([\"user_id\",\"product_id\"])[\"reordered\"].aggregate([\"count\", \"sum\"]).reset_index()"
      ],
      "execution_count": 39,
      "outputs": []
    },
    {
      "cell_type": "code",
      "metadata": {
        "id": "5dKuYmAJV6_F",
        "colab": {
          "base_uri": "https://localhost:8080/",
          "height": 111
        },
        "outputId": "e80c3e51-3f8c-4462-f295-a148dcb0b57a"
      },
      "source": [
        "prior_df.head(2)"
      ],
      "execution_count": 24,
      "outputs": [
        {
          "output_type": "execute_result",
          "data": {
            "text/html": [
              "<div>\n",
              "<style scoped>\n",
              "    .dataframe tbody tr th:only-of-type {\n",
              "        vertical-align: middle;\n",
              "    }\n",
              "\n",
              "    .dataframe tbody tr th {\n",
              "        vertical-align: top;\n",
              "    }\n",
              "\n",
              "    .dataframe thead th {\n",
              "        text-align: right;\n",
              "    }\n",
              "</style>\n",
              "<table border=\"1\" class=\"dataframe\">\n",
              "  <thead>\n",
              "    <tr style=\"text-align: right;\">\n",
              "      <th></th>\n",
              "      <th>user_id</th>\n",
              "      <th>product_id</th>\n",
              "      <th>count</th>\n",
              "      <th>sum</th>\n",
              "    </tr>\n",
              "  </thead>\n",
              "  <tbody>\n",
              "    <tr>\n",
              "      <th>0</th>\n",
              "      <td>1</td>\n",
              "      <td>196</td>\n",
              "      <td>10</td>\n",
              "      <td>9</td>\n",
              "    </tr>\n",
              "    <tr>\n",
              "      <th>1</th>\n",
              "      <td>1</td>\n",
              "      <td>10258</td>\n",
              "      <td>9</td>\n",
              "      <td>8</td>\n",
              "    </tr>\n",
              "  </tbody>\n",
              "</table>\n",
              "</div>"
            ],
            "text/plain": [
              "   user_id  product_id  count  sum\n",
              "0        1         196     10    9\n",
              "1        1       10258      9    8"
            ]
          },
          "metadata": {
            "tags": []
          },
          "execution_count": 24
        }
      ]
    },
    {
      "cell_type": "code",
      "metadata": {
        "id": "pxpBC8I9V9Y9"
      },
      "source": [
        "prior_df.columns = [\"user_id\", \"product_id\", \"reordered_count\", \"reordered_sum\"]"
      ],
      "execution_count": 40,
      "outputs": []
    },
    {
      "cell_type": "code",
      "metadata": {
        "id": "tKrPXfG5V9US",
        "colab": {
          "base_uri": "https://localhost:8080/",
          "height": 111
        },
        "outputId": "4fe8e0df-7e8d-4866-ce72-8e2d0e5e5b89"
      },
      "source": [
        "prior_df.head(2)"
      ],
      "execution_count": 25,
      "outputs": [
        {
          "output_type": "execute_result",
          "data": {
            "text/html": [
              "<div>\n",
              "<style scoped>\n",
              "    .dataframe tbody tr th:only-of-type {\n",
              "        vertical-align: middle;\n",
              "    }\n",
              "\n",
              "    .dataframe tbody tr th {\n",
              "        vertical-align: top;\n",
              "    }\n",
              "\n",
              "    .dataframe thead th {\n",
              "        text-align: right;\n",
              "    }\n",
              "</style>\n",
              "<table border=\"1\" class=\"dataframe\">\n",
              "  <thead>\n",
              "    <tr style=\"text-align: right;\">\n",
              "      <th></th>\n",
              "      <th>user_id</th>\n",
              "      <th>product_id</th>\n",
              "      <th>count</th>\n",
              "      <th>sum</th>\n",
              "    </tr>\n",
              "  </thead>\n",
              "  <tbody>\n",
              "    <tr>\n",
              "      <th>0</th>\n",
              "      <td>1</td>\n",
              "      <td>196</td>\n",
              "      <td>10</td>\n",
              "      <td>9</td>\n",
              "    </tr>\n",
              "    <tr>\n",
              "      <th>1</th>\n",
              "      <td>1</td>\n",
              "      <td>10258</td>\n",
              "      <td>9</td>\n",
              "      <td>8</td>\n",
              "    </tr>\n",
              "  </tbody>\n",
              "</table>\n",
              "</div>"
            ],
            "text/plain": [
              "   user_id  product_id  count  sum\n",
              "0        1         196     10    9\n",
              "1        1       10258      9    8"
            ]
          },
          "metadata": {
            "tags": []
          },
          "execution_count": 25
        }
      ]
    },
    {
      "cell_type": "code",
      "metadata": {
        "id": "vn2qGERNYWlH",
        "colab": {
          "base_uri": "https://localhost:8080/",
          "height": 204
        },
        "outputId": "0dda6841-db6e-4862-b644-fd9c2aa70abc"
      },
      "source": [
        "prior_df = pd.merge(prior_df, prior_df_latest, how=\"left\", on=[\"user_id\",\"product_id\"])\n",
        "prior_df.head()"
      ],
      "execution_count": 41,
      "outputs": [
        {
          "output_type": "execute_result",
          "data": {
            "text/html": [
              "<div>\n",
              "<style scoped>\n",
              "    .dataframe tbody tr th:only-of-type {\n",
              "        vertical-align: middle;\n",
              "    }\n",
              "\n",
              "    .dataframe tbody tr th {\n",
              "        vertical-align: top;\n",
              "    }\n",
              "\n",
              "    .dataframe thead th {\n",
              "        text-align: right;\n",
              "    }\n",
              "</style>\n",
              "<table border=\"1\" class=\"dataframe\">\n",
              "  <thead>\n",
              "    <tr style=\"text-align: right;\">\n",
              "      <th></th>\n",
              "      <th>user_id</th>\n",
              "      <th>product_id</th>\n",
              "      <th>reordered_count</th>\n",
              "      <th>reordered_sum</th>\n",
              "      <th>reordered_latest</th>\n",
              "    </tr>\n",
              "  </thead>\n",
              "  <tbody>\n",
              "    <tr>\n",
              "      <th>0</th>\n",
              "      <td>1</td>\n",
              "      <td>196</td>\n",
              "      <td>10</td>\n",
              "      <td>9</td>\n",
              "      <td>1.0</td>\n",
              "    </tr>\n",
              "    <tr>\n",
              "      <th>1</th>\n",
              "      <td>1</td>\n",
              "      <td>10258</td>\n",
              "      <td>9</td>\n",
              "      <td>8</td>\n",
              "      <td>1.0</td>\n",
              "    </tr>\n",
              "    <tr>\n",
              "      <th>2</th>\n",
              "      <td>1</td>\n",
              "      <td>10326</td>\n",
              "      <td>1</td>\n",
              "      <td>0</td>\n",
              "      <td>NaN</td>\n",
              "    </tr>\n",
              "    <tr>\n",
              "      <th>3</th>\n",
              "      <td>1</td>\n",
              "      <td>12427</td>\n",
              "      <td>10</td>\n",
              "      <td>9</td>\n",
              "      <td>1.0</td>\n",
              "    </tr>\n",
              "    <tr>\n",
              "      <th>4</th>\n",
              "      <td>1</td>\n",
              "      <td>13032</td>\n",
              "      <td>3</td>\n",
              "      <td>2</td>\n",
              "      <td>1.0</td>\n",
              "    </tr>\n",
              "  </tbody>\n",
              "</table>\n",
              "</div>"
            ],
            "text/plain": [
              "   user_id  product_id  reordered_count  reordered_sum  reordered_latest\n",
              "0        1         196               10              9               1.0\n",
              "1        1       10258                9              8               1.0\n",
              "2        1       10326                1              0               NaN\n",
              "3        1       12427               10              9               1.0\n",
              "4        1       13032                3              2               1.0"
            ]
          },
          "metadata": {
            "tags": []
          },
          "execution_count": 41
        }
      ]
    },
    {
      "cell_type": "code",
      "metadata": {
        "id": "CF5fDy5cYnzr"
      },
      "source": [
        "orders_df.drop([\"order_number\"],axis=1,inplace=True)"
      ],
      "execution_count": 42,
      "outputs": []
    },
    {
      "cell_type": "code",
      "metadata": {
        "id": "fJQhp4FzY0Dx"
      },
      "source": [
        "train_df = pd.read_csv(data_path + \"order_products__train.csv\", usecols=[\"order_id\"])"
      ],
      "execution_count": 43,
      "outputs": []
    },
    {
      "cell_type": "code",
      "metadata": {
        "id": "yYF5sbiTY_j_"
      },
      "source": [
        "train_df = train_df.groupby(\"order_id\").aggregate(\"count\").reset_index()"
      ],
      "execution_count": 44,
      "outputs": []
    },
    {
      "cell_type": "code",
      "metadata": {
        "id": "G-uBvTG5ZEYR"
      },
      "source": [
        "test_df = pd.read_csv(data_path + \"sample_submission.csv\", usecols=[\"order_id\"])"
      ],
      "execution_count": 45,
      "outputs": []
    },
    {
      "cell_type": "code",
      "metadata": {
        "id": "bqJwjoLeZGq9"
      },
      "source": [
        "train_df = pd.merge(train_df, orders_df, how=\"inner\", on=\"order_id\")"
      ],
      "execution_count": 46,
      "outputs": []
    },
    {
      "cell_type": "code",
      "metadata": {
        "id": "3GNKwLHrZIYk"
      },
      "source": [
        "test_df = pd.merge(test_df, orders_df, how=\"inner\", on=\"order_id\")"
      ],
      "execution_count": 47,
      "outputs": []
    },
    {
      "cell_type": "code",
      "metadata": {
        "id": "IZoEMqc-ZKY-",
        "colab": {
          "base_uri": "https://localhost:8080/"
        },
        "outputId": "c22dd112-6266-44ce-d5d2-f9c95ffdb45d"
      },
      "source": [
        "print(train_df.shape, test_df.shape)"
      ],
      "execution_count": 48,
      "outputs": [
        {
          "output_type": "stream",
          "text": [
            "(131209, 2) (75000, 2)\n"
          ],
          "name": "stdout"
        }
      ]
    },
    {
      "cell_type": "code",
      "metadata": {
        "id": "l58DbtaxZMdc",
        "colab": {
          "base_uri": "https://localhost:8080/",
          "height": 204
        },
        "outputId": "be2b7d86-a328-41b0-c774-0aa5ec513ae8"
      },
      "source": [
        "train_df.head()"
      ],
      "execution_count": 49,
      "outputs": [
        {
          "output_type": "execute_result",
          "data": {
            "text/html": [
              "<div>\n",
              "<style scoped>\n",
              "    .dataframe tbody tr th:only-of-type {\n",
              "        vertical-align: middle;\n",
              "    }\n",
              "\n",
              "    .dataframe tbody tr th {\n",
              "        vertical-align: top;\n",
              "    }\n",
              "\n",
              "    .dataframe thead th {\n",
              "        text-align: right;\n",
              "    }\n",
              "</style>\n",
              "<table border=\"1\" class=\"dataframe\">\n",
              "  <thead>\n",
              "    <tr style=\"text-align: right;\">\n",
              "      <th></th>\n",
              "      <th>order_id</th>\n",
              "      <th>user_id</th>\n",
              "    </tr>\n",
              "  </thead>\n",
              "  <tbody>\n",
              "    <tr>\n",
              "      <th>0</th>\n",
              "      <td>1</td>\n",
              "      <td>112108</td>\n",
              "    </tr>\n",
              "    <tr>\n",
              "      <th>1</th>\n",
              "      <td>36</td>\n",
              "      <td>79431</td>\n",
              "    </tr>\n",
              "    <tr>\n",
              "      <th>2</th>\n",
              "      <td>38</td>\n",
              "      <td>42756</td>\n",
              "    </tr>\n",
              "    <tr>\n",
              "      <th>3</th>\n",
              "      <td>96</td>\n",
              "      <td>17227</td>\n",
              "    </tr>\n",
              "    <tr>\n",
              "      <th>4</th>\n",
              "      <td>98</td>\n",
              "      <td>56463</td>\n",
              "    </tr>\n",
              "  </tbody>\n",
              "</table>\n",
              "</div>"
            ],
            "text/plain": [
              "   order_id  user_id\n",
              "0         1   112108\n",
              "1        36    79431\n",
              "2        38    42756\n",
              "3        96    17227\n",
              "4        98    56463"
            ]
          },
          "metadata": {
            "tags": []
          },
          "execution_count": 49
        }
      ]
    },
    {
      "cell_type": "code",
      "metadata": {
        "id": "JB7LbOyRZdWj",
        "colab": {
          "base_uri": "https://localhost:8080/",
          "height": 204
        },
        "outputId": "8d800fed-adb8-41f3-beed-1328ae2858fd"
      },
      "source": [
        "test_df.head()"
      ],
      "execution_count": 50,
      "outputs": [
        {
          "output_type": "execute_result",
          "data": {
            "text/html": [
              "<div>\n",
              "<style scoped>\n",
              "    .dataframe tbody tr th:only-of-type {\n",
              "        vertical-align: middle;\n",
              "    }\n",
              "\n",
              "    .dataframe tbody tr th {\n",
              "        vertical-align: top;\n",
              "    }\n",
              "\n",
              "    .dataframe thead th {\n",
              "        text-align: right;\n",
              "    }\n",
              "</style>\n",
              "<table border=\"1\" class=\"dataframe\">\n",
              "  <thead>\n",
              "    <tr style=\"text-align: right;\">\n",
              "      <th></th>\n",
              "      <th>order_id</th>\n",
              "      <th>user_id</th>\n",
              "    </tr>\n",
              "  </thead>\n",
              "  <tbody>\n",
              "    <tr>\n",
              "      <th>0</th>\n",
              "      <td>17</td>\n",
              "      <td>36855</td>\n",
              "    </tr>\n",
              "    <tr>\n",
              "      <th>1</th>\n",
              "      <td>34</td>\n",
              "      <td>35220</td>\n",
              "    </tr>\n",
              "    <tr>\n",
              "      <th>2</th>\n",
              "      <td>137</td>\n",
              "      <td>187107</td>\n",
              "    </tr>\n",
              "    <tr>\n",
              "      <th>3</th>\n",
              "      <td>182</td>\n",
              "      <td>115892</td>\n",
              "    </tr>\n",
              "    <tr>\n",
              "      <th>4</th>\n",
              "      <td>257</td>\n",
              "      <td>35581</td>\n",
              "    </tr>\n",
              "  </tbody>\n",
              "</table>\n",
              "</div>"
            ],
            "text/plain": [
              "   order_id  user_id\n",
              "0        17    36855\n",
              "1        34    35220\n",
              "2       137   187107\n",
              "3       182   115892\n",
              "4       257    35581"
            ]
          },
          "metadata": {
            "tags": []
          },
          "execution_count": 50
        }
      ]
    },
    {
      "cell_type": "code",
      "metadata": {
        "id": "rTt6AcZAZf43",
        "colab": {
          "base_uri": "https://localhost:8080/"
        },
        "outputId": "ec7d0300-4764-4a4d-be24-fe7d9b324ec6"
      },
      "source": [
        "train_df = pd.merge(train_df, prior_df, how=\"inner\", on=\"user_id\")\n",
        "test_df = pd.merge(test_df, prior_df, how=\"inner\", on=\"user_id\")\n",
        "# del prior_df, prior_grouped_df, prior_df_latest\n",
        "print(train_df.shape, test_df.shape)"
      ],
      "execution_count": 51,
      "outputs": [
        {
          "output_type": "stream",
          "text": [
            "(8474661, 6) (4833292, 6)\n"
          ],
          "name": "stdout"
        }
      ]
    },
    {
      "cell_type": "code",
      "metadata": {
        "id": "JucuPX4QZf1O",
        "colab": {
          "base_uri": "https://localhost:8080/",
          "height": 419
        },
        "outputId": "bcdb7fdf-fe23-4d29-b316-213713e16d58"
      },
      "source": [
        "train_df"
      ],
      "execution_count": 52,
      "outputs": [
        {
          "output_type": "execute_result",
          "data": {
            "text/html": [
              "<div>\n",
              "<style scoped>\n",
              "    .dataframe tbody tr th:only-of-type {\n",
              "        vertical-align: middle;\n",
              "    }\n",
              "\n",
              "    .dataframe tbody tr th {\n",
              "        vertical-align: top;\n",
              "    }\n",
              "\n",
              "    .dataframe thead th {\n",
              "        text-align: right;\n",
              "    }\n",
              "</style>\n",
              "<table border=\"1\" class=\"dataframe\">\n",
              "  <thead>\n",
              "    <tr style=\"text-align: right;\">\n",
              "      <th></th>\n",
              "      <th>order_id</th>\n",
              "      <th>user_id</th>\n",
              "      <th>product_id</th>\n",
              "      <th>reordered_count</th>\n",
              "      <th>reordered_sum</th>\n",
              "      <th>reordered_latest</th>\n",
              "    </tr>\n",
              "  </thead>\n",
              "  <tbody>\n",
              "    <tr>\n",
              "      <th>0</th>\n",
              "      <td>1</td>\n",
              "      <td>112108</td>\n",
              "      <td>2067</td>\n",
              "      <td>1</td>\n",
              "      <td>0</td>\n",
              "      <td>NaN</td>\n",
              "    </tr>\n",
              "    <tr>\n",
              "      <th>1</th>\n",
              "      <td>1</td>\n",
              "      <td>112108</td>\n",
              "      <td>5707</td>\n",
              "      <td>2</td>\n",
              "      <td>1</td>\n",
              "      <td>1.0</td>\n",
              "    </tr>\n",
              "    <tr>\n",
              "      <th>2</th>\n",
              "      <td>1</td>\n",
              "      <td>112108</td>\n",
              "      <td>11109</td>\n",
              "      <td>2</td>\n",
              "      <td>1</td>\n",
              "      <td>NaN</td>\n",
              "    </tr>\n",
              "    <tr>\n",
              "      <th>3</th>\n",
              "      <td>1</td>\n",
              "      <td>112108</td>\n",
              "      <td>14947</td>\n",
              "      <td>3</td>\n",
              "      <td>2</td>\n",
              "      <td>1.0</td>\n",
              "    </tr>\n",
              "    <tr>\n",
              "      <th>4</th>\n",
              "      <td>1</td>\n",
              "      <td>112108</td>\n",
              "      <td>22035</td>\n",
              "      <td>2</td>\n",
              "      <td>1</td>\n",
              "      <td>NaN</td>\n",
              "    </tr>\n",
              "    <tr>\n",
              "      <th>...</th>\n",
              "      <td>...</td>\n",
              "      <td>...</td>\n",
              "      <td>...</td>\n",
              "      <td>...</td>\n",
              "      <td>...</td>\n",
              "      <td>...</td>\n",
              "    </tr>\n",
              "    <tr>\n",
              "      <th>8474656</th>\n",
              "      <td>3421070</td>\n",
              "      <td>139822</td>\n",
              "      <td>31506</td>\n",
              "      <td>1</td>\n",
              "      <td>0</td>\n",
              "      <td>NaN</td>\n",
              "    </tr>\n",
              "    <tr>\n",
              "      <th>8474657</th>\n",
              "      <td>3421070</td>\n",
              "      <td>139822</td>\n",
              "      <td>34035</td>\n",
              "      <td>1</td>\n",
              "      <td>0</td>\n",
              "      <td>NaN</td>\n",
              "    </tr>\n",
              "    <tr>\n",
              "      <th>8474658</th>\n",
              "      <td>3421070</td>\n",
              "      <td>139822</td>\n",
              "      <td>35347</td>\n",
              "      <td>1</td>\n",
              "      <td>0</td>\n",
              "      <td>NaN</td>\n",
              "    </tr>\n",
              "    <tr>\n",
              "      <th>8474659</th>\n",
              "      <td>3421070</td>\n",
              "      <td>139822</td>\n",
              "      <td>35951</td>\n",
              "      <td>5</td>\n",
              "      <td>4</td>\n",
              "      <td>NaN</td>\n",
              "    </tr>\n",
              "    <tr>\n",
              "      <th>8474660</th>\n",
              "      <td>3421070</td>\n",
              "      <td>139822</td>\n",
              "      <td>46149</td>\n",
              "      <td>9</td>\n",
              "      <td>8</td>\n",
              "      <td>1.0</td>\n",
              "    </tr>\n",
              "  </tbody>\n",
              "</table>\n",
              "<p>8474661 rows × 6 columns</p>\n",
              "</div>"
            ],
            "text/plain": [
              "         order_id  user_id  ...  reordered_sum  reordered_latest\n",
              "0               1   112108  ...              0               NaN\n",
              "1               1   112108  ...              1               1.0\n",
              "2               1   112108  ...              1               NaN\n",
              "3               1   112108  ...              2               1.0\n",
              "4               1   112108  ...              1               NaN\n",
              "...           ...      ...  ...            ...               ...\n",
              "8474656   3421070   139822  ...              0               NaN\n",
              "8474657   3421070   139822  ...              0               NaN\n",
              "8474658   3421070   139822  ...              0               NaN\n",
              "8474659   3421070   139822  ...              4               NaN\n",
              "8474660   3421070   139822  ...              8               1.0\n",
              "\n",
              "[8474661 rows x 6 columns]"
            ]
          },
          "metadata": {
            "tags": []
          },
          "execution_count": 52
        }
      ]
    },
    {
      "cell_type": "code",
      "metadata": {
        "id": "9LW9yleTZfxu",
        "colab": {
          "base_uri": "https://localhost:8080/",
          "height": 419
        },
        "outputId": "8c608470-4781-4dc8-eb4d-c5a64ad4fdeb"
      },
      "source": [
        "test_df"
      ],
      "execution_count": 53,
      "outputs": [
        {
          "output_type": "execute_result",
          "data": {
            "text/html": [
              "<div>\n",
              "<style scoped>\n",
              "    .dataframe tbody tr th:only-of-type {\n",
              "        vertical-align: middle;\n",
              "    }\n",
              "\n",
              "    .dataframe tbody tr th {\n",
              "        vertical-align: top;\n",
              "    }\n",
              "\n",
              "    .dataframe thead th {\n",
              "        text-align: right;\n",
              "    }\n",
              "</style>\n",
              "<table border=\"1\" class=\"dataframe\">\n",
              "  <thead>\n",
              "    <tr style=\"text-align: right;\">\n",
              "      <th></th>\n",
              "      <th>order_id</th>\n",
              "      <th>user_id</th>\n",
              "      <th>product_id</th>\n",
              "      <th>reordered_count</th>\n",
              "      <th>reordered_sum</th>\n",
              "      <th>reordered_latest</th>\n",
              "    </tr>\n",
              "  </thead>\n",
              "  <tbody>\n",
              "    <tr>\n",
              "      <th>0</th>\n",
              "      <td>17</td>\n",
              "      <td>36855</td>\n",
              "      <td>1283</td>\n",
              "      <td>1</td>\n",
              "      <td>0</td>\n",
              "      <td>NaN</td>\n",
              "    </tr>\n",
              "    <tr>\n",
              "      <th>1</th>\n",
              "      <td>17</td>\n",
              "      <td>36855</td>\n",
              "      <td>6291</td>\n",
              "      <td>1</td>\n",
              "      <td>0</td>\n",
              "      <td>NaN</td>\n",
              "    </tr>\n",
              "    <tr>\n",
              "      <th>2</th>\n",
              "      <td>17</td>\n",
              "      <td>36855</td>\n",
              "      <td>7035</td>\n",
              "      <td>1</td>\n",
              "      <td>0</td>\n",
              "      <td>NaN</td>\n",
              "    </tr>\n",
              "    <tr>\n",
              "      <th>3</th>\n",
              "      <td>17</td>\n",
              "      <td>36855</td>\n",
              "      <td>11494</td>\n",
              "      <td>1</td>\n",
              "      <td>0</td>\n",
              "      <td>NaN</td>\n",
              "    </tr>\n",
              "    <tr>\n",
              "      <th>4</th>\n",
              "      <td>17</td>\n",
              "      <td>36855</td>\n",
              "      <td>13107</td>\n",
              "      <td>3</td>\n",
              "      <td>2</td>\n",
              "      <td>1.0</td>\n",
              "    </tr>\n",
              "    <tr>\n",
              "      <th>...</th>\n",
              "      <td>...</td>\n",
              "      <td>...</td>\n",
              "      <td>...</td>\n",
              "      <td>...</td>\n",
              "      <td>...</td>\n",
              "      <td>...</td>\n",
              "    </tr>\n",
              "    <tr>\n",
              "      <th>4833287</th>\n",
              "      <td>3421054</td>\n",
              "      <td>153585</td>\n",
              "      <td>46397</td>\n",
              "      <td>1</td>\n",
              "      <td>0</td>\n",
              "      <td>NaN</td>\n",
              "    </tr>\n",
              "    <tr>\n",
              "      <th>4833288</th>\n",
              "      <td>3421054</td>\n",
              "      <td>153585</td>\n",
              "      <td>47145</td>\n",
              "      <td>1</td>\n",
              "      <td>0</td>\n",
              "      <td>NaN</td>\n",
              "    </tr>\n",
              "    <tr>\n",
              "      <th>4833289</th>\n",
              "      <td>3421054</td>\n",
              "      <td>153585</td>\n",
              "      <td>47226</td>\n",
              "      <td>1</td>\n",
              "      <td>0</td>\n",
              "      <td>NaN</td>\n",
              "    </tr>\n",
              "    <tr>\n",
              "      <th>4833290</th>\n",
              "      <td>3421054</td>\n",
              "      <td>153585</td>\n",
              "      <td>48790</td>\n",
              "      <td>2</td>\n",
              "      <td>1</td>\n",
              "      <td>NaN</td>\n",
              "    </tr>\n",
              "    <tr>\n",
              "      <th>4833291</th>\n",
              "      <td>3421054</td>\n",
              "      <td>153585</td>\n",
              "      <td>48808</td>\n",
              "      <td>1</td>\n",
              "      <td>0</td>\n",
              "      <td>NaN</td>\n",
              "    </tr>\n",
              "  </tbody>\n",
              "</table>\n",
              "<p>4833292 rows × 6 columns</p>\n",
              "</div>"
            ],
            "text/plain": [
              "         order_id  user_id  ...  reordered_sum  reordered_latest\n",
              "0              17    36855  ...              0               NaN\n",
              "1              17    36855  ...              0               NaN\n",
              "2              17    36855  ...              0               NaN\n",
              "3              17    36855  ...              0               NaN\n",
              "4              17    36855  ...              2               1.0\n",
              "...           ...      ...  ...            ...               ...\n",
              "4833287   3421054   153585  ...              0               NaN\n",
              "4833288   3421054   153585  ...              0               NaN\n",
              "4833289   3421054   153585  ...              0               NaN\n",
              "4833290   3421054   153585  ...              1               NaN\n",
              "4833291   3421054   153585  ...              0               NaN\n",
              "\n",
              "[4833292 rows x 6 columns]"
            ]
          },
          "metadata": {
            "tags": []
          },
          "execution_count": 53
        }
      ]
    },
    {
      "cell_type": "code",
      "metadata": {
        "id": "ZG_WRZplZftW",
        "colab": {
          "base_uri": "https://localhost:8080/"
        },
        "outputId": "78cd422d-7f80-4e91-e525-5d86564099be"
      },
      "source": [
        "products_df = pd.read_csv(data_path + \"products.csv\", usecols=[\"product_id\", \"aisle_id\", \"department_id\"])\n",
        "train_df = pd.merge(train_df, products_df, how=\"inner\", on=\"product_id\")\n",
        "test_df = pd.merge(test_df, products_df, how=\"inner\", on=\"product_id\")\n",
        "# del products_df\n",
        "print(train_df.shape, test_df.shape)"
      ],
      "execution_count": 54,
      "outputs": [
        {
          "output_type": "stream",
          "text": [
            "(8474661, 8) (4833292, 8)\n"
          ],
          "name": "stdout"
        }
      ]
    },
    {
      "cell_type": "code",
      "metadata": {
        "id": "4Muy_FM1Z7cD",
        "colab": {
          "base_uri": "https://localhost:8080/",
          "height": 419
        },
        "outputId": "a32e62e3-bd96-4a05-8561-9590334dde48"
      },
      "source": [
        "train_df"
      ],
      "execution_count": 55,
      "outputs": [
        {
          "output_type": "execute_result",
          "data": {
            "text/html": [
              "<div>\n",
              "<style scoped>\n",
              "    .dataframe tbody tr th:only-of-type {\n",
              "        vertical-align: middle;\n",
              "    }\n",
              "\n",
              "    .dataframe tbody tr th {\n",
              "        vertical-align: top;\n",
              "    }\n",
              "\n",
              "    .dataframe thead th {\n",
              "        text-align: right;\n",
              "    }\n",
              "</style>\n",
              "<table border=\"1\" class=\"dataframe\">\n",
              "  <thead>\n",
              "    <tr style=\"text-align: right;\">\n",
              "      <th></th>\n",
              "      <th>order_id</th>\n",
              "      <th>user_id</th>\n",
              "      <th>product_id</th>\n",
              "      <th>reordered_count</th>\n",
              "      <th>reordered_sum</th>\n",
              "      <th>reordered_latest</th>\n",
              "      <th>aisle_id</th>\n",
              "      <th>department_id</th>\n",
              "    </tr>\n",
              "  </thead>\n",
              "  <tbody>\n",
              "    <tr>\n",
              "      <th>0</th>\n",
              "      <td>1</td>\n",
              "      <td>112108</td>\n",
              "      <td>2067</td>\n",
              "      <td>1</td>\n",
              "      <td>0</td>\n",
              "      <td>NaN</td>\n",
              "      <td>3</td>\n",
              "      <td>19</td>\n",
              "    </tr>\n",
              "    <tr>\n",
              "      <th>1</th>\n",
              "      <td>96</td>\n",
              "      <td>17227</td>\n",
              "      <td>2067</td>\n",
              "      <td>1</td>\n",
              "      <td>0</td>\n",
              "      <td>NaN</td>\n",
              "      <td>3</td>\n",
              "      <td>19</td>\n",
              "    </tr>\n",
              "    <tr>\n",
              "      <th>2</th>\n",
              "      <td>3243</td>\n",
              "      <td>206024</td>\n",
              "      <td>2067</td>\n",
              "      <td>1</td>\n",
              "      <td>0</td>\n",
              "      <td>NaN</td>\n",
              "      <td>3</td>\n",
              "      <td>19</td>\n",
              "    </tr>\n",
              "    <tr>\n",
              "      <th>3</th>\n",
              "      <td>12950</td>\n",
              "      <td>11456</td>\n",
              "      <td>2067</td>\n",
              "      <td>1</td>\n",
              "      <td>0</td>\n",
              "      <td>0.0</td>\n",
              "      <td>3</td>\n",
              "      <td>19</td>\n",
              "    </tr>\n",
              "    <tr>\n",
              "      <th>4</th>\n",
              "      <td>17683</td>\n",
              "      <td>177724</td>\n",
              "      <td>2067</td>\n",
              "      <td>1</td>\n",
              "      <td>0</td>\n",
              "      <td>NaN</td>\n",
              "      <td>3</td>\n",
              "      <td>19</td>\n",
              "    </tr>\n",
              "    <tr>\n",
              "      <th>...</th>\n",
              "      <td>...</td>\n",
              "      <td>...</td>\n",
              "      <td>...</td>\n",
              "      <td>...</td>\n",
              "      <td>...</td>\n",
              "      <td>...</td>\n",
              "      <td>...</td>\n",
              "      <td>...</td>\n",
              "    </tr>\n",
              "    <tr>\n",
              "      <th>8474656</th>\n",
              "      <td>3417483</td>\n",
              "      <td>88512</td>\n",
              "      <td>13705</td>\n",
              "      <td>1</td>\n",
              "      <td>0</td>\n",
              "      <td>NaN</td>\n",
              "      <td>109</td>\n",
              "      <td>11</td>\n",
              "    </tr>\n",
              "    <tr>\n",
              "      <th>8474657</th>\n",
              "      <td>3418547</td>\n",
              "      <td>187144</td>\n",
              "      <td>22747</td>\n",
              "      <td>1</td>\n",
              "      <td>0</td>\n",
              "      <td>NaN</td>\n",
              "      <td>37</td>\n",
              "      <td>1</td>\n",
              "    </tr>\n",
              "    <tr>\n",
              "      <th>8474658</th>\n",
              "      <td>3418573</td>\n",
              "      <td>117202</td>\n",
              "      <td>25184</td>\n",
              "      <td>2</td>\n",
              "      <td>1</td>\n",
              "      <td>NaN</td>\n",
              "      <td>44</td>\n",
              "      <td>11</td>\n",
              "    </tr>\n",
              "    <tr>\n",
              "      <th>8474659</th>\n",
              "      <td>3419273</td>\n",
              "      <td>47713</td>\n",
              "      <td>38623</td>\n",
              "      <td>2</td>\n",
              "      <td>1</td>\n",
              "      <td>NaN</td>\n",
              "      <td>4</td>\n",
              "      <td>9</td>\n",
              "    </tr>\n",
              "    <tr>\n",
              "      <th>8474660</th>\n",
              "      <td>3420021</td>\n",
              "      <td>64216</td>\n",
              "      <td>2208</td>\n",
              "      <td>1</td>\n",
              "      <td>0</td>\n",
              "      <td>0.0</td>\n",
              "      <td>121</td>\n",
              "      <td>14</td>\n",
              "    </tr>\n",
              "  </tbody>\n",
              "</table>\n",
              "<p>8474661 rows × 8 columns</p>\n",
              "</div>"
            ],
            "text/plain": [
              "         order_id  user_id  ...  aisle_id  department_id\n",
              "0               1   112108  ...         3             19\n",
              "1              96    17227  ...         3             19\n",
              "2            3243   206024  ...         3             19\n",
              "3           12950    11456  ...         3             19\n",
              "4           17683   177724  ...         3             19\n",
              "...           ...      ...  ...       ...            ...\n",
              "8474656   3417483    88512  ...       109             11\n",
              "8474657   3418547   187144  ...        37              1\n",
              "8474658   3418573   117202  ...        44             11\n",
              "8474659   3419273    47713  ...         4              9\n",
              "8474660   3420021    64216  ...       121             14\n",
              "\n",
              "[8474661 rows x 8 columns]"
            ]
          },
          "metadata": {
            "tags": []
          },
          "execution_count": 55
        }
      ]
    },
    {
      "cell_type": "code",
      "metadata": {
        "id": "6R-ZqjzvZ7Yb"
      },
      "source": [
        "train_y_df = pd.read_csv(data_path + \"order_products__train.csv\", usecols=[\"order_id\", \"product_id\", \"reordered\"])"
      ],
      "execution_count": 56,
      "outputs": []
    },
    {
      "cell_type": "code",
      "metadata": {
        "id": "Jy4TzxtZZ7UM"
      },
      "source": [
        "train_y_df = pd.merge(train_y_df, orders_df, how=\"inner\", on=\"order_id\")"
      ],
      "execution_count": 57,
      "outputs": []
    },
    {
      "cell_type": "code",
      "metadata": {
        "id": "WpSPVUIgZ7Pe"
      },
      "source": [
        "train_y_df = train_y_df[[\"user_id\", \"product_id\", \"reordered\"]]"
      ],
      "execution_count": 58,
      "outputs": []
    },
    {
      "cell_type": "code",
      "metadata": {
        "id": "t7Ck0c9badvU",
        "colab": {
          "base_uri": "https://localhost:8080/",
          "height": 419
        },
        "outputId": "a11b3f6a-9d60-4f9f-8b2e-bbe69d387a24"
      },
      "source": [
        "train_y_df"
      ],
      "execution_count": null,
      "outputs": [
        {
          "output_type": "execute_result",
          "data": {
            "text/html": [
              "<div>\n",
              "<style scoped>\n",
              "    .dataframe tbody tr th:only-of-type {\n",
              "        vertical-align: middle;\n",
              "    }\n",
              "\n",
              "    .dataframe tbody tr th {\n",
              "        vertical-align: top;\n",
              "    }\n",
              "\n",
              "    .dataframe thead th {\n",
              "        text-align: right;\n",
              "    }\n",
              "</style>\n",
              "<table border=\"1\" class=\"dataframe\">\n",
              "  <thead>\n",
              "    <tr style=\"text-align: right;\">\n",
              "      <th></th>\n",
              "      <th>user_id</th>\n",
              "      <th>product_id</th>\n",
              "      <th>reordered</th>\n",
              "    </tr>\n",
              "  </thead>\n",
              "  <tbody>\n",
              "    <tr>\n",
              "      <th>0</th>\n",
              "      <td>112108</td>\n",
              "      <td>49302</td>\n",
              "      <td>1</td>\n",
              "    </tr>\n",
              "    <tr>\n",
              "      <th>1</th>\n",
              "      <td>112108</td>\n",
              "      <td>11109</td>\n",
              "      <td>1</td>\n",
              "    </tr>\n",
              "    <tr>\n",
              "      <th>2</th>\n",
              "      <td>112108</td>\n",
              "      <td>10246</td>\n",
              "      <td>0</td>\n",
              "    </tr>\n",
              "    <tr>\n",
              "      <th>3</th>\n",
              "      <td>112108</td>\n",
              "      <td>49683</td>\n",
              "      <td>0</td>\n",
              "    </tr>\n",
              "    <tr>\n",
              "      <th>4</th>\n",
              "      <td>112108</td>\n",
              "      <td>43633</td>\n",
              "      <td>1</td>\n",
              "    </tr>\n",
              "    <tr>\n",
              "      <th>...</th>\n",
              "      <td>...</td>\n",
              "      <td>...</td>\n",
              "      <td>...</td>\n",
              "    </tr>\n",
              "    <tr>\n",
              "      <th>1384612</th>\n",
              "      <td>169679</td>\n",
              "      <td>14233</td>\n",
              "      <td>1</td>\n",
              "    </tr>\n",
              "    <tr>\n",
              "      <th>1384613</th>\n",
              "      <td>169679</td>\n",
              "      <td>35548</td>\n",
              "      <td>1</td>\n",
              "    </tr>\n",
              "    <tr>\n",
              "      <th>1384614</th>\n",
              "      <td>139822</td>\n",
              "      <td>35951</td>\n",
              "      <td>1</td>\n",
              "    </tr>\n",
              "    <tr>\n",
              "      <th>1384615</th>\n",
              "      <td>139822</td>\n",
              "      <td>16953</td>\n",
              "      <td>1</td>\n",
              "    </tr>\n",
              "    <tr>\n",
              "      <th>1384616</th>\n",
              "      <td>139822</td>\n",
              "      <td>4724</td>\n",
              "      <td>1</td>\n",
              "    </tr>\n",
              "  </tbody>\n",
              "</table>\n",
              "<p>1384617 rows × 3 columns</p>\n",
              "</div>"
            ],
            "text/plain": [
              "         user_id  product_id  reordered\n",
              "0         112108       49302          1\n",
              "1         112108       11109          1\n",
              "2         112108       10246          0\n",
              "3         112108       49683          0\n",
              "4         112108       43633          1\n",
              "...          ...         ...        ...\n",
              "1384612   169679       14233          1\n",
              "1384613   169679       35548          1\n",
              "1384614   139822       35951          1\n",
              "1384615   139822       16953          1\n",
              "1384616   139822        4724          1\n",
              "\n",
              "[1384617 rows x 3 columns]"
            ]
          },
          "metadata": {
            "tags": []
          },
          "execution_count": 106
        }
      ]
    },
    {
      "cell_type": "code",
      "metadata": {
        "id": "6nEFBiynag3e",
        "colab": {
          "base_uri": "https://localhost:8080/"
        },
        "outputId": "6fdf698e-1740-470a-be2d-fcc1a5e8f52a"
      },
      "source": [
        "train_df = pd.merge(train_df, train_y_df, how=\"left\", on=[\"user_id\", \"product_id\"])\n",
        "train_df[\"reordered\"].fillna(0, inplace=True)\n",
        "print(train_df.shape)"
      ],
      "execution_count": 59,
      "outputs": [
        {
          "output_type": "stream",
          "text": [
            "(8474661, 9)\n"
          ],
          "name": "stdout"
        }
      ]
    },
    {
      "cell_type": "code",
      "metadata": {
        "id": "SUNT_Xsuagtw",
        "colab": {
          "base_uri": "https://localhost:8080/",
          "height": 419
        },
        "outputId": "aea26730-983e-4c61-e181-71ec61b25ac3"
      },
      "source": [
        "train_df"
      ],
      "execution_count": null,
      "outputs": [
        {
          "output_type": "execute_result",
          "data": {
            "text/html": [
              "<div>\n",
              "<style scoped>\n",
              "    .dataframe tbody tr th:only-of-type {\n",
              "        vertical-align: middle;\n",
              "    }\n",
              "\n",
              "    .dataframe tbody tr th {\n",
              "        vertical-align: top;\n",
              "    }\n",
              "\n",
              "    .dataframe thead th {\n",
              "        text-align: right;\n",
              "    }\n",
              "</style>\n",
              "<table border=\"1\" class=\"dataframe\">\n",
              "  <thead>\n",
              "    <tr style=\"text-align: right;\">\n",
              "      <th></th>\n",
              "      <th>order_id</th>\n",
              "      <th>user_id</th>\n",
              "      <th>product_id</th>\n",
              "      <th>reordered_count</th>\n",
              "      <th>reordered_sum</th>\n",
              "      <th>reordered_latest</th>\n",
              "      <th>aisle_id</th>\n",
              "      <th>department_id</th>\n",
              "      <th>reordered</th>\n",
              "    </tr>\n",
              "  </thead>\n",
              "  <tbody>\n",
              "    <tr>\n",
              "      <th>0</th>\n",
              "      <td>1</td>\n",
              "      <td>112108</td>\n",
              "      <td>2067</td>\n",
              "      <td>1</td>\n",
              "      <td>0</td>\n",
              "      <td>NaN</td>\n",
              "      <td>3</td>\n",
              "      <td>19</td>\n",
              "      <td>0.0</td>\n",
              "    </tr>\n",
              "    <tr>\n",
              "      <th>1</th>\n",
              "      <td>96</td>\n",
              "      <td>17227</td>\n",
              "      <td>2067</td>\n",
              "      <td>1</td>\n",
              "      <td>0</td>\n",
              "      <td>NaN</td>\n",
              "      <td>3</td>\n",
              "      <td>19</td>\n",
              "      <td>0.0</td>\n",
              "    </tr>\n",
              "    <tr>\n",
              "      <th>2</th>\n",
              "      <td>3243</td>\n",
              "      <td>206024</td>\n",
              "      <td>2067</td>\n",
              "      <td>1</td>\n",
              "      <td>0</td>\n",
              "      <td>NaN</td>\n",
              "      <td>3</td>\n",
              "      <td>19</td>\n",
              "      <td>0.0</td>\n",
              "    </tr>\n",
              "    <tr>\n",
              "      <th>3</th>\n",
              "      <td>12950</td>\n",
              "      <td>11456</td>\n",
              "      <td>2067</td>\n",
              "      <td>1</td>\n",
              "      <td>0</td>\n",
              "      <td>0.0</td>\n",
              "      <td>3</td>\n",
              "      <td>19</td>\n",
              "      <td>0.0</td>\n",
              "    </tr>\n",
              "    <tr>\n",
              "      <th>4</th>\n",
              "      <td>17683</td>\n",
              "      <td>177724</td>\n",
              "      <td>2067</td>\n",
              "      <td>1</td>\n",
              "      <td>0</td>\n",
              "      <td>NaN</td>\n",
              "      <td>3</td>\n",
              "      <td>19</td>\n",
              "      <td>0.0</td>\n",
              "    </tr>\n",
              "    <tr>\n",
              "      <th>...</th>\n",
              "      <td>...</td>\n",
              "      <td>...</td>\n",
              "      <td>...</td>\n",
              "      <td>...</td>\n",
              "      <td>...</td>\n",
              "      <td>...</td>\n",
              "      <td>...</td>\n",
              "      <td>...</td>\n",
              "      <td>...</td>\n",
              "    </tr>\n",
              "    <tr>\n",
              "      <th>8474656</th>\n",
              "      <td>3417483</td>\n",
              "      <td>88512</td>\n",
              "      <td>13705</td>\n",
              "      <td>1</td>\n",
              "      <td>0</td>\n",
              "      <td>NaN</td>\n",
              "      <td>109</td>\n",
              "      <td>11</td>\n",
              "      <td>0.0</td>\n",
              "    </tr>\n",
              "    <tr>\n",
              "      <th>8474657</th>\n",
              "      <td>3418547</td>\n",
              "      <td>187144</td>\n",
              "      <td>22747</td>\n",
              "      <td>1</td>\n",
              "      <td>0</td>\n",
              "      <td>NaN</td>\n",
              "      <td>37</td>\n",
              "      <td>1</td>\n",
              "      <td>0.0</td>\n",
              "    </tr>\n",
              "    <tr>\n",
              "      <th>8474658</th>\n",
              "      <td>3418573</td>\n",
              "      <td>117202</td>\n",
              "      <td>25184</td>\n",
              "      <td>2</td>\n",
              "      <td>1</td>\n",
              "      <td>NaN</td>\n",
              "      <td>44</td>\n",
              "      <td>11</td>\n",
              "      <td>0.0</td>\n",
              "    </tr>\n",
              "    <tr>\n",
              "      <th>8474659</th>\n",
              "      <td>3419273</td>\n",
              "      <td>47713</td>\n",
              "      <td>38623</td>\n",
              "      <td>2</td>\n",
              "      <td>1</td>\n",
              "      <td>NaN</td>\n",
              "      <td>4</td>\n",
              "      <td>9</td>\n",
              "      <td>0.0</td>\n",
              "    </tr>\n",
              "    <tr>\n",
              "      <th>8474660</th>\n",
              "      <td>3420021</td>\n",
              "      <td>64216</td>\n",
              "      <td>2208</td>\n",
              "      <td>1</td>\n",
              "      <td>0</td>\n",
              "      <td>0.0</td>\n",
              "      <td>121</td>\n",
              "      <td>14</td>\n",
              "      <td>0.0</td>\n",
              "    </tr>\n",
              "  </tbody>\n",
              "</table>\n",
              "<p>8474661 rows × 9 columns</p>\n",
              "</div>"
            ],
            "text/plain": [
              "         order_id  user_id  product_id  ...  aisle_id  department_id  reordered\n",
              "0               1   112108        2067  ...         3             19        0.0\n",
              "1              96    17227        2067  ...         3             19        0.0\n",
              "2            3243   206024        2067  ...         3             19        0.0\n",
              "3           12950    11456        2067  ...         3             19        0.0\n",
              "4           17683   177724        2067  ...         3             19        0.0\n",
              "...           ...      ...         ...  ...       ...            ...        ...\n",
              "8474656   3417483    88512       13705  ...       109             11        0.0\n",
              "8474657   3418547   187144       22747  ...        37              1        0.0\n",
              "8474658   3418573   117202       25184  ...        44             11        0.0\n",
              "8474659   3419273    47713       38623  ...         4              9        0.0\n",
              "8474660   3420021    64216        2208  ...       121             14        0.0\n",
              "\n",
              "[8474661 rows x 9 columns]"
            ]
          },
          "metadata": {
            "tags": []
          },
          "execution_count": 108
        }
      ]
    },
    {
      "cell_type": "code",
      "metadata": {
        "id": "250Az9m5azWm",
        "colab": {
          "base_uri": "https://localhost:8080/"
        },
        "outputId": "059383aa-3272-4bb5-fdcf-fa1b1f4123d3"
      },
      "source": [
        "train_df['reordered'].value_counts()"
      ],
      "execution_count": 60,
      "outputs": [
        {
          "output_type": "execute_result",
          "data": {
            "text/plain": [
              "0.0    7645837\n",
              "1.0     828824\n",
              "Name: reordered, dtype: int64"
            ]
          },
          "metadata": {
            "tags": []
          },
          "execution_count": 60
        }
      ]
    },
    {
      "cell_type": "code",
      "metadata": {
        "id": "CX08uthvbJzA"
      },
      "source": [
        "del train_y_df"
      ],
      "execution_count": null,
      "outputs": []
    },
    {
      "cell_type": "code",
      "metadata": {
        "id": "AfD2DQTpbOwn"
      },
      "source": [
        "train_y = train_df.reordered.values\n",
        "out_df = test_df[[\"order_id\", \"product_id\"]]"
      ],
      "execution_count": 61,
      "outputs": []
    },
    {
      "cell_type": "code",
      "metadata": {
        "id": "OqsSPhRtsNgV",
        "colab": {
          "base_uri": "https://localhost:8080/",
          "height": 34
        },
        "outputId": "731d4c7d-1e65-44ed-9699-b8ac4fda8a3a"
      },
      "source": [
        "out_df.shape"
      ],
      "execution_count": null,
      "outputs": [
        {
          "output_type": "execute_result",
          "data": {
            "text/plain": [
              "(4833292, 2)"
            ]
          },
          "metadata": {
            "tags": []
          },
          "execution_count": 194
        }
      ]
    },
    {
      "cell_type": "code",
      "metadata": {
        "id": "GPM8UYCjbRhs",
        "colab": {
          "base_uri": "https://localhost:8080/"
        },
        "outputId": "cbec7a97-a1d1-49a7-b2b3-9e9df5284c88"
      },
      "source": [
        "train_df = np.array(train_df.drop([\"order_id\", \"user_id\", \"reordered\"], axis=1))\n",
        "test_df = np.array(test_df.drop([\"order_id\", \"user_id\"], axis=1))\n",
        "print(train_df.shape, test_df.shape)"
      ],
      "execution_count": 62,
      "outputs": [
        {
          "output_type": "stream",
          "text": [
            "(8474661, 6) (4833292, 6)\n"
          ],
          "name": "stdout"
        }
      ]
    },
    {
      "cell_type": "code",
      "metadata": {
        "id": "ylG92m98bRIc",
        "colab": {
          "base_uri": "https://localhost:8080/",
          "height": 238
        },
        "outputId": "cbb2bf0b-dfdd-423f-e2ae-a9f4d5a1b0d5"
      },
      "source": [
        "train_df"
      ],
      "execution_count": null,
      "outputs": [
        {
          "output_type": "execute_result",
          "data": {
            "text/plain": [
              "array([[2.0670e+03, 1.0000e+00, 0.0000e+00,        nan, 3.0000e+00,\n",
              "        1.9000e+01],\n",
              "       [2.0670e+03, 1.0000e+00, 0.0000e+00,        nan, 3.0000e+00,\n",
              "        1.9000e+01],\n",
              "       [2.0670e+03, 1.0000e+00, 0.0000e+00,        nan, 3.0000e+00,\n",
              "        1.9000e+01],\n",
              "       ...,\n",
              "       [2.5184e+04, 2.0000e+00, 1.0000e+00,        nan, 4.4000e+01,\n",
              "        1.1000e+01],\n",
              "       [3.8623e+04, 2.0000e+00, 1.0000e+00,        nan, 4.0000e+00,\n",
              "        9.0000e+00],\n",
              "       [2.2080e+03, 1.0000e+00, 0.0000e+00, 0.0000e+00, 1.2100e+02,\n",
              "        1.4000e+01]])"
            ]
          },
          "metadata": {
            "tags": []
          },
          "execution_count": 196
        }
      ]
    },
    {
      "cell_type": "code",
      "metadata": {
        "id": "OLk9lu2ab_JB"
      },
      "source": [
        "def runXGB(train_X, train_y, test_X, test_y=None, feature_names=None, seed_val=0):\n",
        "        params = {}\n",
        "        params[\"objective\"] = \"binary:logistic\"\n",
        "        params['eval_metric'] = 'logloss'\n",
        "        params[\"eta\"] = 0.05\n",
        "        params[\"subsample\"] = 0.7\n",
        "        params[\"min_child_weight\"] = 10\n",
        "        params[\"colsample_bytree\"] = 0.7\n",
        "        params[\"max_depth\"] = 8\n",
        "        params[\"silent\"] = 1\n",
        "        params[\"seed\"] = seed_val\n",
        "        num_rounds = 100\n",
        "        plst = list(params.items())\n",
        "        xgtrain = xgb.DMatrix(train_X, label=train_y)\n",
        "\n",
        "        if test_y is not None:\n",
        "                xgtest = xgb.DMatrix(test_X, label=test_y)\n",
        "                watchlist = [ (xgtrain,'train'), (xgtest, 'test') ]\n",
        "                model = xgb.train(plst, xgtrain, num_rounds, watchlist, early_stopping_rounds=50, verbose_eval=10)\n",
        "        else:\n",
        "                xgtest = xgb.DMatrix(test_X)\n",
        "                model = xgb.train(plst, xgtrain, num_rounds)\n",
        "\n",
        "        pred_test_y = model.predict(xgtest)\n",
        "        return pred_test_y, model"
      ],
      "execution_count": null,
      "outputs": []
    },
    {
      "cell_type": "code",
      "metadata": {
        "id": "7P_mTDXWgICE"
      },
      "source": [
        "test = xgb.DMatrix(test_df)"
      ],
      "execution_count": 63,
      "outputs": []
    },
    {
      "cell_type": "code",
      "metadata": {
        "id": "0umqE3wegQ8g"
      },
      "source": [
        "pred_test = model.predict(test)"
      ],
      "execution_count": null,
      "outputs": []
    },
    {
      "cell_type": "code",
      "metadata": {
        "id": "QOyjxGTorDcf",
        "colab": {
          "base_uri": "https://localhost:8080/",
          "height": 34
        },
        "outputId": "073f7e3c-111e-4843-ba97-119154e3d177"
      },
      "source": [
        "test_df.shape"
      ],
      "execution_count": null,
      "outputs": [
        {
          "output_type": "execute_result",
          "data": {
            "text/plain": [
              "(4833292, 6)"
            ]
          },
          "metadata": {
            "tags": []
          },
          "execution_count": 161
        }
      ]
    },
    {
      "cell_type": "code",
      "metadata": {
        "id": "mzf89f8mcCwb"
      },
      "source": [
        "pred,model = runXGB(train_df, train_y, test_df)\n",
        "# del train_df, test_df\n",
        "model.save(data_path + 'xgboost_100.model')\n",
        "# use a cut-off value to get the predictions #\n",
        "cutoff = 0.2\n",
        "pred[pred>=cutoff] = 1\n",
        "pred[pred<cutoff] = 0\n",
        "out_df[\"Pred\"] = pred\n",
        "out_df = out_df[out_df[\"Pred\"].astype('int')==1]"
      ],
      "execution_count": null,
      "outputs": []
    },
    {
      "cell_type": "code",
      "metadata": {
        "id": "DfzPY27vp1BO"
      },
      "source": [
        "model.save_model(data_path + 'xgboost_100.model')"
      ],
      "execution_count": null,
      "outputs": []
    },
    {
      "cell_type": "code",
      "metadata": {
        "id": "UUm4ZA96gB4O",
        "colab": {
          "base_uri": "https://localhost:8080/",
          "height": 51
        },
        "outputId": "c68bde70-5bcd-4ea6-e298-d4120e64cd8e"
      },
      "source": [
        "cutoff = 0.\n",
        "pred[pred>=cutoff] = 1\n",
        "pred[pred<cutoff] = 0\n",
        "out_df[\"Pred\"] = pred\n",
        "out_df = out_df[out_df[\"Pred\"].astype('int')==1]"
      ],
      "execution_count": null,
      "outputs": [
        {
          "output_type": "execute_result",
          "data": {
            "text/plain": [
              "array([0.14638878, 0.14638878, 0.14638878, ..., 0.17146042, 0.13731982,\n",
              "       0.13147962], dtype=float32)"
            ]
          },
          "metadata": {
            "tags": []
          },
          "execution_count": 128
        }
      ]
    },
    {
      "cell_type": "code",
      "metadata": {
        "id": "o-fn89Dlh72G"
      },
      "source": [
        "new_model = xgb.Booster() "
      ],
      "execution_count": 65,
      "outputs": []
    },
    {
      "cell_type": "code",
      "metadata": {
        "id": "u6_MbLyOiEhK"
      },
      "source": [
        "new_model.load_model(data_path + \"xgboost_100.model\")"
      ],
      "execution_count": 67,
      "outputs": []
    },
    {
      "cell_type": "code",
      "metadata": {
        "id": "C7PvhbKQiJay",
        "colab": {
          "base_uri": "https://localhost:8080/"
        },
        "outputId": "ef76b88b-90a8-426a-cb1b-ede71d6a0a10"
      },
      "source": [
        "new_model.predict(test)"
      ],
      "execution_count": 69,
      "outputs": [
        {
          "output_type": "execute_result",
          "data": {
            "text/plain": [
              "array([0.04802879, 0.04802879, 0.04802879, ..., 0.06942067, 0.03404874,\n",
              "       0.02436683], dtype=float32)"
            ]
          },
          "metadata": {
            "tags": []
          },
          "execution_count": 69
        }
      ]
    },
    {
      "cell_type": "code",
      "metadata": {
        "id": "2Cfj8mzjgxum"
      },
      "source": [
        "pred_new = new_model.predict(test)"
      ],
      "execution_count": 71,
      "outputs": []
    },
    {
      "cell_type": "code",
      "metadata": {
        "id": "dX1BBPQLqdC4",
        "colab": {
          "base_uri": "https://localhost:8080/",
          "height": 34
        },
        "outputId": "466161fb-76e8-41d9-ebbb-036fc1141e93"
      },
      "source": [
        "pred_new.shape"
      ],
      "execution_count": null,
      "outputs": [
        {
          "output_type": "execute_result",
          "data": {
            "text/plain": [
              "(4833292,)"
            ]
          },
          "metadata": {
            "tags": []
          },
          "execution_count": 198
        }
      ]
    },
    {
      "cell_type": "code",
      "metadata": {
        "id": "ZGQp3rgdqe_g",
        "colab": {
          "base_uri": "https://localhost:8080/",
          "height": 34
        },
        "outputId": "13fdfaa3-da4c-42f7-ad3f-dd4c97bd9481"
      },
      "source": [
        "out_df.shape"
      ],
      "execution_count": null,
      "outputs": [
        {
          "output_type": "execute_result",
          "data": {
            "text/plain": [
              "(1206149, 3)"
            ]
          },
          "metadata": {
            "tags": []
          },
          "execution_count": 151
        }
      ]
    },
    {
      "cell_type": "code",
      "metadata": {
        "id": "oJdQAqnYqOSM"
      },
      "source": [
        "cutoff = 0.2\n",
        "pred_new[pred_new>=cutoff] = 1\n",
        "pred_new[pred_new<cutoff] = 0\n",
        "out_df[\"Pred\"] = pred_new\n",
        "# out_df = out_df[out_df[\"Pred\"].astype('int')==1]"
      ],
      "execution_count": 72,
      "outputs": []
    },
    {
      "cell_type": "code",
      "metadata": {
        "id": "b9hYOLJTtmA8",
        "colab": {
          "base_uri": "https://localhost:8080/",
          "height": 419
        },
        "outputId": "f93ff96c-5b8b-4527-b74d-e5c3a8cd9c16"
      },
      "source": [
        "new_out = out_df[out_df[\"Pred\"] == 1]\n",
        "new_out"
      ],
      "execution_count": 73,
      "outputs": [
        {
          "output_type": "execute_result",
          "data": {
            "text/html": [
              "<div>\n",
              "<style scoped>\n",
              "    .dataframe tbody tr th:only-of-type {\n",
              "        vertical-align: middle;\n",
              "    }\n",
              "\n",
              "    .dataframe tbody tr th {\n",
              "        vertical-align: top;\n",
              "    }\n",
              "\n",
              "    .dataframe thead th {\n",
              "        text-align: right;\n",
              "    }\n",
              "</style>\n",
              "<table border=\"1\" class=\"dataframe\">\n",
              "  <thead>\n",
              "    <tr style=\"text-align: right;\">\n",
              "      <th></th>\n",
              "      <th>order_id</th>\n",
              "      <th>product_id</th>\n",
              "      <th>Pred</th>\n",
              "    </tr>\n",
              "  </thead>\n",
              "  <tbody>\n",
              "    <tr>\n",
              "      <th>5</th>\n",
              "      <td>1559724</td>\n",
              "      <td>1283</td>\n",
              "      <td>1.0</td>\n",
              "    </tr>\n",
              "    <tr>\n",
              "      <th>27</th>\n",
              "      <td>178755</td>\n",
              "      <td>6291</td>\n",
              "      <td>1.0</td>\n",
              "    </tr>\n",
              "    <tr>\n",
              "      <th>35</th>\n",
              "      <td>305184</td>\n",
              "      <td>6291</td>\n",
              "      <td>1.0</td>\n",
              "    </tr>\n",
              "    <tr>\n",
              "      <th>39</th>\n",
              "      <td>352762</td>\n",
              "      <td>6291</td>\n",
              "      <td>1.0</td>\n",
              "    </tr>\n",
              "    <tr>\n",
              "      <th>43</th>\n",
              "      <td>381159</td>\n",
              "      <td>6291</td>\n",
              "      <td>1.0</td>\n",
              "    </tr>\n",
              "    <tr>\n",
              "      <th>...</th>\n",
              "      <td>...</td>\n",
              "      <td>...</td>\n",
              "      <td>...</td>\n",
              "    </tr>\n",
              "    <tr>\n",
              "      <th>4833241</th>\n",
              "      <td>3369509</td>\n",
              "      <td>17651</td>\n",
              "      <td>1.0</td>\n",
              "    </tr>\n",
              "    <tr>\n",
              "      <th>4833259</th>\n",
              "      <td>3378478</td>\n",
              "      <td>7382</td>\n",
              "      <td>1.0</td>\n",
              "    </tr>\n",
              "    <tr>\n",
              "      <th>4833264</th>\n",
              "      <td>3394676</td>\n",
              "      <td>13053</td>\n",
              "      <td>1.0</td>\n",
              "    </tr>\n",
              "    <tr>\n",
              "      <th>4833282</th>\n",
              "      <td>3412433</td>\n",
              "      <td>18835</td>\n",
              "      <td>1.0</td>\n",
              "    </tr>\n",
              "    <tr>\n",
              "      <th>4833285</th>\n",
              "      <td>3416866</td>\n",
              "      <td>39926</td>\n",
              "      <td>1.0</td>\n",
              "    </tr>\n",
              "  </tbody>\n",
              "</table>\n",
              "<p>555026 rows × 3 columns</p>\n",
              "</div>"
            ],
            "text/plain": [
              "         order_id  product_id  Pred\n",
              "5         1559724        1283   1.0\n",
              "27         178755        6291   1.0\n",
              "35         305184        6291   1.0\n",
              "39         352762        6291   1.0\n",
              "43         381159        6291   1.0\n",
              "...           ...         ...   ...\n",
              "4833241   3369509       17651   1.0\n",
              "4833259   3378478        7382   1.0\n",
              "4833264   3394676       13053   1.0\n",
              "4833282   3412433       18835   1.0\n",
              "4833285   3416866       39926   1.0\n",
              "\n",
              "[555026 rows x 3 columns]"
            ]
          },
          "metadata": {
            "tags": []
          },
          "execution_count": 73
        }
      ]
    },
    {
      "cell_type": "markdown",
      "metadata": {
        "id": "BcBuN8A63Fz-"
      },
      "source": [
        "References : \n",
        "Multiple submissions in instacrt kaggle competition.\n"
      ]
    }
  ]
}