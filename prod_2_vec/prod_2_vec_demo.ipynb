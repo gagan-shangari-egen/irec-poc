{
  "nbformat": 4,
  "nbformat_minor": 0,
  "metadata": {
    "colab": {
      "name": "prod_2_vec_demo.ipynb",
      "provenance": [],
      "collapsed_sections": []
    },
    "kernelspec": {
      "name": "python3",
      "display_name": "Python 3"
    }
  },
  "cells": [
    {
      "cell_type": "code",
      "metadata": {
        "id": "0gfbzYlCf2xK"
      },
      "source": [
        "import numpy as np\n",
        "import pandas as pd\n",
        "import xgboost as xgb\n",
        "from sklearn import metrics, model_selection\n",
        "import gensim.models.keyedvectors as word2vec\n",
        "import gensim\n",
        "from matplotlib import pyplot as plt\n",
        "from sklearn.decomposition import PCA"
      ],
      "execution_count": 49,
      "outputs": []
    },
    {
      "cell_type": "code",
      "metadata": {
        "colab": {
          "base_uri": "https://localhost:8080/"
        },
        "id": "KaolnhDgf-we",
        "outputId": "c4cd2112-2d80-4005-bfa4-312461fff04c"
      },
      "source": [
        "#setting up google colab to use google drive for data_IO as well as to save model checkpoints\n",
        "from google.colab import drive \n",
        "drive.mount('/content/drive')"
      ],
      "execution_count": 2,
      "outputs": [
        {
          "output_type": "stream",
          "text": [
            "Mounted at /content/drive\n"
          ],
          "name": "stdout"
        }
      ]
    },
    {
      "cell_type": "markdown",
      "metadata": {
        "id": "-SZbnm-Zn-Fk"
      },
      "source": [
        "#### To test product to vec models\n",
        "\n",
        "1.   Copy the models provided in models folder\n",
        "2.   Copy path to the models folder to data_path variable\n",
        "\n",
        "The idea behind the product to vec model is to find products that are bought together based on the different carts in the instacart data set. The idea is based upon the Omar Essam's bolg.\n",
        "\n"
      ]
    },
    {
      "cell_type": "code",
      "metadata": {
        "id": "vD5xciEEqCSr"
      },
      "source": [
        "model = word2vec.KeyedVectors.load_word2vec_format(data_path + \"word2vec_model.bin\", binary=True)"
      ],
      "execution_count": null,
      "outputs": []
    },
    {
      "cell_type": "code",
      "metadata": {
        "id": "PkBCykOWuH5N"
      },
      "source": [
        "pca = PCA(n_components=2)\n",
        "pca.fit(model.wv.syn0)"
      ],
      "execution_count": null,
      "outputs": []
    },
    {
      "cell_type": "code",
      "metadata": {
        "colab": {
          "base_uri": "https://localhost:8080/",
          "height": 204
        },
        "id": "RVOz--fdp4iU",
        "outputId": "f3d69ed1-b774-4526-d91a-e5cce9fd7728"
      },
      "source": [
        "products.head()"
      ],
      "execution_count": 27,
      "outputs": [
        {
          "output_type": "execute_result",
          "data": {
            "text/html": [
              "<div>\n",
              "<style scoped>\n",
              "    .dataframe tbody tr th:only-of-type {\n",
              "        vertical-align: middle;\n",
              "    }\n",
              "\n",
              "    .dataframe tbody tr th {\n",
              "        vertical-align: top;\n",
              "    }\n",
              "\n",
              "    .dataframe thead th {\n",
              "        text-align: right;\n",
              "    }\n",
              "</style>\n",
              "<table border=\"1\" class=\"dataframe\">\n",
              "  <thead>\n",
              "    <tr style=\"text-align: right;\">\n",
              "      <th></th>\n",
              "      <th>product_id</th>\n",
              "      <th>product_name</th>\n",
              "      <th>aisle_id</th>\n",
              "      <th>department_id</th>\n",
              "    </tr>\n",
              "  </thead>\n",
              "  <tbody>\n",
              "    <tr>\n",
              "      <th>0</th>\n",
              "      <td>1</td>\n",
              "      <td>Chocolate Sandwich Cookies</td>\n",
              "      <td>61</td>\n",
              "      <td>19</td>\n",
              "    </tr>\n",
              "    <tr>\n",
              "      <th>1</th>\n",
              "      <td>2</td>\n",
              "      <td>All-Seasons Salt</td>\n",
              "      <td>104</td>\n",
              "      <td>13</td>\n",
              "    </tr>\n",
              "    <tr>\n",
              "      <th>2</th>\n",
              "      <td>3</td>\n",
              "      <td>Robust Golden Unsweetened Oolong Tea</td>\n",
              "      <td>94</td>\n",
              "      <td>7</td>\n",
              "    </tr>\n",
              "    <tr>\n",
              "      <th>3</th>\n",
              "      <td>4</td>\n",
              "      <td>Smart Ones Classic Favorites Mini Rigatoni Wit...</td>\n",
              "      <td>38</td>\n",
              "      <td>1</td>\n",
              "    </tr>\n",
              "    <tr>\n",
              "      <th>4</th>\n",
              "      <td>5</td>\n",
              "      <td>Green Chile Anytime Sauce</td>\n",
              "      <td>5</td>\n",
              "      <td>13</td>\n",
              "    </tr>\n",
              "  </tbody>\n",
              "</table>\n",
              "</div>"
            ],
            "text/plain": [
              "   product_id  ... department_id\n",
              "0           1  ...            19\n",
              "1           2  ...            13\n",
              "2           3  ...             7\n",
              "3           4  ...             1\n",
              "4           5  ...            13\n",
              "\n",
              "[5 rows x 4 columns]"
            ]
          },
          "metadata": {
            "tags": []
          },
          "execution_count": 27
        }
      ]
    },
    {
      "cell_type": "code",
      "metadata": {
        "id": "U1Qt2SYltcpy"
      },
      "source": [
        "def plot_with_labels(low_dim_embs, labels, filename='tsne.png'):\n",
        "    \"\"\"From Tensorflow's tutorial.\"\"\"\n",
        "    assert low_dim_embs.shape[0] >= len(labels), \"More labels than embeddings\"\n",
        "    plt.figure(figsize=(18, 18))  #in inches\n",
        "    for i, label in enumerate(labels):\n",
        "        x, y = low_dim_embs[i,:]\n",
        "        plt.scatter(x, y)\n",
        "        plt.annotate(label,\n",
        "                     xy=(x, y),\n",
        "                     xytext=(5, 2),\n",
        "                     textcoords='offset points',\n",
        "                     ha='right',\n",
        "                     va='bottom')\n",
        "    plt.show()\n",
        "\n",
        "def get_most_similar(word):\n",
        "  suggestions = model.most_similar(positive=[word], topn=5)\n",
        "  output = list()\n",
        "  suggest = list()\n",
        "  for i in suggestions:\n",
        "      suggest.append(i[0])\n",
        "  output += suggest\n",
        "  output.append(word)\n",
        "  embeds = []\n",
        "  labels = []\n",
        "  for item in output:\n",
        "      embeds.append(model[item])\n",
        "      labels.append(products.loc[int(item)]['product_name'])\n",
        "  embeds = np.array(embeds)\n",
        "  embeds = pca.fit_transform(embeds)\n",
        "  plot_with_labels(embeds, labels)"
      ],
      "execution_count": 51,
      "outputs": []
    },
    {
      "cell_type": "code",
      "metadata": {
        "id": "iXH0oe8YozPs"
      },
      "source": [
        "data_path = \"path_to_models_directory\""
      ],
      "execution_count": 15,
      "outputs": []
    },
    {
      "cell_type": "code",
      "metadata": {
        "colab": {
          "base_uri": "https://localhost:8080/",
          "height": 1000
        },
        "id": "G4ENzZsXt_pJ",
        "outputId": "12aa4440-0338-420a-d1b8-e73f980dd4ee"
      },
      "source": [
        "get_most_similar('13563')"
      ],
      "execution_count": 52,
      "outputs": [
        {
          "output_type": "display_data",
          "data": {
            "image/png": "[encoded data removed]",
            "text/plain": [
              "<Figure size 1296x1296 with 1 Axes>"
            ]
          },
          "metadata": {
            "tags": [],
            "needs_background": "light"
          }
        }
      ]
    },
    {
      "cell_type": "markdown",
      "metadata": {
        "id": "-mGtIganvFq4"
      },
      "source": [
        "### Training prod2vec model\n"
      ]
    },
    {
      "cell_type": "code",
      "metadata": {
        "id": "HaeB0R4j1FkQ"
      },
      "source": [
        "train_orders = pd.read_csv(data_path + \"order_products__train.csv\")\n",
        "prior_orders = pd.read_csv(data_path +\"order_products__prior.csv\")\n",
        "products = pd.read_csv(data_path + \"products.csv\").set_index('product_id')\n",
        "train_orders[\"product_id\"] = train_orders[\"product_id\"].astype(str)\n",
        "prior_orders[\"product_id\"] = prior_orders[\"product_id\"].astype(str)\n",
        "train_products = train_orders.groupby(\"order_id\").apply(lambda order: order['product_id'].tolist())\n",
        "prior_products = prior_orders.groupby(\"order_id\").apply(lambda order: order['product_id'].tolist())\n",
        "sentences = prior_products.append(train_products)\n",
        "longest = np.max(sentences.apply(len))\n",
        "model = gensim.models.Word2Vec(sentences, size=100, window=longest, min_count=2, workers=4)\n",
        "model.wv.save_word2vec_format(data_path+'word2vec_model.bin', binary=True)"
      ],
      "execution_count": null,
      "outputs": []
    }
  ]
}